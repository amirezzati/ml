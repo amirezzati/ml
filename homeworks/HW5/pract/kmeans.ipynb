{
 "cells": [
  {
   "metadata": {},
   "cell_type": "markdown",
   "source": [
    "### Name\n",
    "### StudentId"
   ],
   "id": "8b8a3760622f5ebb"
  },
  {
   "metadata": {},
   "cell_type": "markdown",
   "source": "# Librarires",
   "id": "4ca5822e6b60b0b2"
  },
  {
   "metadata": {
    "ExecuteTime": {
     "end_time": "2024-05-31T21:00:22.023754Z",
     "start_time": "2024-05-31T21:00:21.428654Z"
    }
   },
   "cell_type": "code",
   "source": [
    "import numpy as np\n",
    "import random\n",
    "\n",
    "from sklearn.datasets import fetch_california_housing"
   ],
   "id": "a399594c3f25ba47",
   "outputs": [],
   "execution_count": 1
  },
  {
   "metadata": {},
   "cell_type": "markdown",
   "source": "# Load Dataset",
   "id": "887af094d5bcb162"
  },
  {
   "metadata": {
    "ExecuteTime": {
     "end_time": "2024-05-31T21:00:22.041398Z",
     "start_time": "2024-05-31T21:00:22.025458Z"
    }
   },
   "cell_type": "code",
   "source": [
    "data = fetch_california_housing()\n",
    "X = data.data\n",
    "sample_numbers = 4000\n",
    "indices = np.random.choice(X.shape[0], sample_numbers, replace=False)\n",
    "x_data = X[indices]"
   ],
   "id": "78355a14982fff1f",
   "outputs": [],
   "execution_count": 2
  },
  {
   "metadata": {},
   "cell_type": "markdown",
   "source": "# Implement KMeans algorithm (do not use any libraries and implement it from scratch)",
   "id": "20781cd9f039fa93"
  },
  {
   "metadata": {
    "ExecuteTime": {
     "end_time": "2024-05-31T21:00:22.065410Z",
     "start_time": "2024-05-31T21:00:22.043162Z"
    }
   },
   "cell_type": "code",
   "source": [
    "#TODO\n",
    "class KMeans:\n",
    "    def __init__(self, n_clusters=5, max_iter=1000):\n",
    "        self.n_clusters = n_clusters\n",
    "        self.max_iter = max_iter"
   ],
   "id": "481df9843a5193f9",
   "outputs": [],
   "execution_count": 3
  },
  {
   "metadata": {},
   "cell_type": "markdown",
   "source": "# Use elbow method and silhouette method to choose optimal cluster numbers",
   "id": "f94b243ed81e873f"
  },
  {
   "metadata": {
    "ExecuteTime": {
     "end_time": "2024-05-31T21:00:22.365683Z",
     "start_time": "2024-05-31T21:00:22.362801Z"
    }
   },
   "cell_type": "code",
   "source": [
    "#TODO\n",
    "\n"
   ],
   "id": "d975ae6d326968fe",
   "outputs": [],
   "execution_count": 4
  },
  {
   "metadata": {},
   "cell_type": "markdown",
   "source": "# Compare your k means algorithm with sklearn k means algorithm (compare it with both elbow and silhouette method)",
   "id": "5722aa5755cae5da"
  },
  {
   "metadata": {
    "ExecuteTime": {
     "end_time": "2024-05-31T21:00:22.722715Z",
     "start_time": "2024-05-31T21:00:22.717410Z"
    }
   },
   "cell_type": "code",
   "source": "#TODO\n",
   "id": "cb3104857d91360e",
   "outputs": [],
   "execution_count": 5
  },
  {
   "metadata": {},
   "cell_type": "markdown",
   "source": "### what is the optimal cluster number based on your custom kmeans algorithm and sklearn kmeans algorithm? if answer is different based on each algorithm then explain difference",
   "id": "6614366861f492c4"
  },
  {
   "metadata": {},
   "cell_type": "markdown",
   "source": [
    "### would you prefer elbow method for determining optimal cluster number or silhouette method?\n",
    "#### I prefer silhouette method because in elbow method sometimes it's hard to say where is the elbow point but silhouette method is more deterministic rather than elbow method"
   ],
   "id": "cd7def67c63fa41f"
  },
  {
   "metadata": {},
   "cell_type": "code",
   "source": "",
   "id": "de00d0f8980b1a7d",
   "outputs": [],
   "execution_count": null
  }
 ],
 "metadata": {
  "kernelspec": {
   "display_name": "Python 3",
   "language": "python",
   "name": "python3"
  },
  "language_info": {
   "codemirror_mode": {
    "name": "ipython",
    "version": 2
   },
   "file_extension": ".py",
   "mimetype": "text/x-python",
   "name": "python",
   "nbconvert_exporter": "python",
   "pygments_lexer": "ipython2",
   "version": "2.7.6"
  }
 },
 "nbformat": 4,
 "nbformat_minor": 5
}
