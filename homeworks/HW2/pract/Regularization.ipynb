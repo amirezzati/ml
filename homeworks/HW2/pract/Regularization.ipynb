{
  "nbformat": 4,
  "nbformat_minor": 0,
  "metadata": {
    "colab": {
      "provenance": [],
      "gpuType": "T4"
    },
    "kernelspec": {
      "name": "python3",
      "display_name": "Python 3"
    },
    "language_info": {
      "name": "python"
    }
  },
  "cells": [
    {
      "cell_type": "markdown",
      "source": [
        "# **Introduction**"
      ],
      "metadata": {
        "id": "6Y2oAz-bELlu"
      }
    },
    {
      "cell_type": "markdown",
      "source": [
        "In this assignment, you will work with a dataset that includes The Boston housing data was collected in 1978 and each of the 506 entries represent aggregated data about 14 features for homes from various suburbs in Boston, Massachusetts. The target variable of interest in this dataset is the median value of owner-occupied homes (MEDV), which serves as a proxy for the house prices.\n",
        "First, you will start by fitting a basic regression model using scikit-learn (sklearn) to establish a baseline for comparison. This basic regression model will serve as a reference point for evaluating the performance of more sophisticated models incorporating regularization techniques.\n",
        "\n",
        "Furthermore, you will apply L1 (Lasso) and L2 (Ridge) regularization techniques to refine your predictions and evaluate the impact of these methods on the accuracy of your results. Regularization is a technique used to prevent overfitting by adding a penalty term to the loss function, encouraging simpler models with smaller coefficients. L1 regularization (Lasso) encourages sparsity by penalizing the absolute values of coefficients, while L2 regularization (Ridge) penalizes the square of coefficients. By incorporating these regularization techniques, you aim to improve the generalization performance of your regression models and obtain more robust predictions of house prices in the Boston area."
      ],
      "metadata": {
        "id": "333JCswHnbQp"
      }
    },
    {
      "cell_type": "markdown",
      "source": [
        "## Imports"
      ],
      "metadata": {
        "id": "sDDdf9AAoYXt"
      }
    },
    {
      "cell_type": "code",
      "source": [
        "import os\n",
        "import pandas\n",
        "from sklearn.linear_model import LinearRegression, Lasso, Ridge\n",
        "from sklearn.metrics import mean_squared_error, r2_score\n",
        "from sklearn.model_selection import train_test_split\n",
        "from sklearn.preprocessing import StandardScaler, PolynomialFeatures\n",
        "import numpy as np\n",
        "import pandas as pd\n",
        "import seaborn as sns\n",
        "from joblib import dump, load\n",
        "from matplotlib import pyplot as plt\n",
        "\n",
        "!wget -O /HousingData.csv \"https://www.dropbox.com/scl/fi/j3rxgrd8l7fgczzhiedlp/new.csv?rlkey=yngaf57gumhtmm3hxffk20qll&dl=0\""
      ],
      "metadata": {
        "id": "kkjrbInyoRyN",
        "colab": {
          "base_uri": "https://localhost:8080/"
        },
        "outputId": "d218ba4b-a082-4646-93a9-07036914911e"
      },
      "execution_count": 87,
      "outputs": [
        {
          "output_type": "stream",
          "name": "stdout",
          "text": [
            "--2024-03-18 16:21:30--  https://www.dropbox.com/scl/fi/j3rxgrd8l7fgczzhiedlp/new.csv?rlkey=yngaf57gumhtmm3hxffk20qll&dl=0\n",
            "Resolving www.dropbox.com (www.dropbox.com)... 162.125.3.18, 2620:100:6018:18::a27d:312\n",
            "Connecting to www.dropbox.com (www.dropbox.com)|162.125.3.18|:443... connected.\n",
            "HTTP request sent, awaiting response... 302 Found\n",
            "Location: https://uc4921daf93ba9a8870c332e640b.dl.dropboxusercontent.com/cd/0/inline/CPW7znscIZNcxTPOMESZMVgMizjHfvmlTO7OdtLAIRsDWz5yxthQH2cFydEQ6OUYiU5fBHaygZrr_Il7ARBP5qe5Wa-MDubxYrMktGsufrqwVZL3NSRDOCY6_T7ArC4stgZ2II7xGf3pGwYUvevXulcC/file# [following]\n",
            "--2024-03-18 16:21:31--  https://uc4921daf93ba9a8870c332e640b.dl.dropboxusercontent.com/cd/0/inline/CPW7znscIZNcxTPOMESZMVgMizjHfvmlTO7OdtLAIRsDWz5yxthQH2cFydEQ6OUYiU5fBHaygZrr_Il7ARBP5qe5Wa-MDubxYrMktGsufrqwVZL3NSRDOCY6_T7ArC4stgZ2II7xGf3pGwYUvevXulcC/file\n",
            "Resolving uc4921daf93ba9a8870c332e640b.dl.dropboxusercontent.com (uc4921daf93ba9a8870c332e640b.dl.dropboxusercontent.com)... 162.125.3.15, 2620:100:6018:15::a27d:30f\n",
            "Connecting to uc4921daf93ba9a8870c332e640b.dl.dropboxusercontent.com (uc4921daf93ba9a8870c332e640b.dl.dropboxusercontent.com)|162.125.3.15|:443... connected.\n",
            "HTTP request sent, awaiting response... 200 OK\n",
            "Length: 37599 (37K) [text/plain]\n",
            "Saving to: ‘/HousingData.csv’\n",
            "\n",
            "/HousingData.csv    100%[===================>]  36.72K  --.-KB/s    in 0.01s   \n",
            "\n",
            "2024-03-18 16:21:31 (3.02 MB/s) - ‘/HousingData.csv’ saved [37599/37599]\n",
            "\n"
          ]
        }
      ]
    },
    {
      "cell_type": "markdown",
      "source": [
        "# Load and Explore"
      ],
      "metadata": {
        "id": "jBpa9AGHEtD7"
      }
    },
    {
      "cell_type": "markdown",
      "source": [
        "Load the dataset (as a dataframe) using pandas and display the top 5 rows of the dataframe and then check for missing values and impute missing values with mean"
      ],
      "metadata": {
        "id": "MFzJZLOxoZDJ"
      }
    },
    {
      "cell_type": "code",
      "source": [
        "file_path = '/HousingData.csv'\n",
        "# TODO: Load the Dataset and Check for mising values and then impute them with the mean value"
      ],
      "metadata": {
        "id": "lqhABVd2oZYV",
        "colab": {
          "base_uri": "https://localhost:8080/"
        },
        "outputId": "edd34522-e777-4f2c-b0b8-4e511070e6d2"
      },
      "execution_count": 88,
      "outputs": [
        {
          "output_type": "stream",
          "name": "stdout",
          "text": [
            "      CRIM    ZN  INDUS  CHAS    NOX     RM   AGE     DIS  TAX  PTRATIO  \\\n",
            "0  0.00632  18.0   2.31   0.0  0.538  6.575  65.2  4.0900  296     15.3   \n",
            "1  0.02731   0.0   7.07   0.0  0.469  6.421  78.9  4.9671  242     17.8   \n",
            "2  0.02729   0.0   7.07   0.0  0.469  7.185  61.1  4.9671  242     17.8   \n",
            "3  0.03237   0.0   2.18   0.0  0.458  6.998  45.8  6.0622  222     18.7   \n",
            "4  0.06905   0.0   2.18   0.0  0.458  7.147  54.2  6.0622  222     18.7   \n",
            "\n",
            "        B      LSTAT  MEDV  \n",
            "0  396.90   4.980000  24.0  \n",
            "1  396.90   9.140000  21.6  \n",
            "2  392.83   4.030000  34.7  \n",
            "3  394.63   2.940000  33.4  \n",
            "4  396.90  12.715432  36.2  \n"
          ]
        }
      ]
    },
    {
      "cell_type": "markdown",
      "source": [
        "Get a brief description of the dataset"
      ],
      "metadata": {
        "id": "5-Py3iuJoZwi"
      }
    },
    {
      "cell_type": "code",
      "source": [
        "# TODO: you can use .info() and .description()"
      ],
      "metadata": {
        "id": "zThHHTAcoZ_h",
        "colab": {
          "base_uri": "https://localhost:8080/"
        },
        "outputId": "c6396de2-f136-41b8-ebbf-cb9fddc59d3b"
      },
      "execution_count": 89,
      "outputs": [
        {
          "output_type": "stream",
          "name": "stdout",
          "text": [
            "<class 'pandas.core.frame.DataFrame'>\n",
            "RangeIndex: 506 entries, 0 to 505\n",
            "Data columns (total 13 columns):\n",
            " #   Column   Non-Null Count  Dtype  \n",
            "---  ------   --------------  -----  \n",
            " 0   CRIM     506 non-null    float64\n",
            " 1   ZN       506 non-null    float64\n",
            " 2   INDUS    506 non-null    float64\n",
            " 3   CHAS     506 non-null    float64\n",
            " 4   NOX      506 non-null    float64\n",
            " 5   RM       506 non-null    float64\n",
            " 6   AGE      506 non-null    float64\n",
            " 7   DIS      506 non-null    float64\n",
            " 8   TAX      506 non-null    int64  \n",
            " 9   PTRATIO  506 non-null    float64\n",
            " 10  B        506 non-null    float64\n",
            " 11  LSTAT    506 non-null    float64\n",
            " 12  MEDV     506 non-null    float64\n",
            "dtypes: float64(12), int64(1)\n",
            "memory usage: 51.5 KB\n",
            "None\n",
            "             CRIM          ZN       INDUS        CHAS         NOX          RM  \\\n",
            "count  506.000000  506.000000  506.000000  506.000000  506.000000  506.000000   \n",
            "mean     3.611874   11.211934   11.083992    0.069959    0.554695    6.284634   \n",
            "std      8.545770   22.921051    6.699165    0.250233    0.115878    0.702617   \n",
            "min      0.006320    0.000000    0.460000    0.000000    0.385000    3.561000   \n",
            "25%      0.083235    0.000000    5.190000    0.000000    0.449000    5.885500   \n",
            "50%      0.290250    0.000000    9.900000    0.000000    0.538000    6.208500   \n",
            "75%      3.611874   11.211934   18.100000    0.000000    0.624000    6.623500   \n",
            "max     88.976200  100.000000   27.740000    1.000000    0.871000    8.780000   \n",
            "\n",
            "              AGE         DIS         TAX     PTRATIO           B       LSTAT  \\\n",
            "count  506.000000  506.000000  506.000000  506.000000  506.000000  506.000000   \n",
            "mean    68.518519    3.795043  408.237154   18.455534  356.674032   12.715432   \n",
            "std     27.439466    2.105710  168.537116    2.164946   91.294864    7.012739   \n",
            "min      2.900000    1.129600  187.000000   12.600000    0.320000    1.730000   \n",
            "25%     45.925000    2.100175  279.000000   17.400000  375.377500    7.230000   \n",
            "50%     74.450000    3.207450  330.000000   19.050000  391.440000   11.995000   \n",
            "75%     93.575000    5.188425  666.000000   20.200000  396.225000   16.570000   \n",
            "max    100.000000   12.126500  711.000000   22.000000  396.900000   37.970000   \n",
            "\n",
            "             MEDV  \n",
            "count  506.000000  \n",
            "mean    22.532806  \n",
            "std      9.197104  \n",
            "min      5.000000  \n",
            "25%     17.025000  \n",
            "50%     21.200000  \n",
            "75%     25.000000  \n",
            "max     50.000000  \n"
          ]
        }
      ]
    },
    {
      "cell_type": "markdown",
      "source": [
        "Extract only the features from the dataframe by removing the target column and then Convert the new dataframe into a numpy array\n",
        "</br>\n",
        "Note: **Do not remove the previous dataframe.**\n"
      ],
      "metadata": {
        "id": "gHcKVT_4oabK"
      }
    },
    {
      "cell_type": "markdown",
      "source": [
        "# Preprocessing"
      ],
      "metadata": {
        "id": "VkDUEmURE-Sx"
      }
    },
    {
      "cell_type": "code",
      "source": [
        "# TODO: drop MEDV and convert to numpy array"
      ],
      "metadata": {
        "id": "FtT8kFoBoajv",
        "colab": {
          "base_uri": "https://localhost:8080/"
        },
        "outputId": "f97ef7ac-b4d6-4e6c-8465-21f1adface00"
      },
      "execution_count": 90,
      "outputs": [
        {
          "output_type": "stream",
          "name": "stdout",
          "text": [
            "<class 'numpy.ndarray'>\n",
            "[[6.32000000e-03 1.80000000e+01 2.31000000e+00 0.00000000e+00\n",
            "  5.38000000e-01 6.57500000e+00 6.52000000e+01 4.09000000e+00\n",
            "  2.96000000e+02 1.53000000e+01 3.96900000e+02 4.98000000e+00]\n",
            " [2.73100000e-02 0.00000000e+00 7.07000000e+00 0.00000000e+00\n",
            "  4.69000000e-01 6.42100000e+00 7.89000000e+01 4.96710000e+00\n",
            "  2.42000000e+02 1.78000000e+01 3.96900000e+02 9.14000000e+00]\n",
            " [2.72900000e-02 0.00000000e+00 7.07000000e+00 0.00000000e+00\n",
            "  4.69000000e-01 7.18500000e+00 6.11000000e+01 4.96710000e+00\n",
            "  2.42000000e+02 1.78000000e+01 3.92830000e+02 4.03000000e+00]\n",
            " [3.23700000e-02 0.00000000e+00 2.18000000e+00 0.00000000e+00\n",
            "  4.58000000e-01 6.99800000e+00 4.58000000e+01 6.06220000e+00\n",
            "  2.22000000e+02 1.87000000e+01 3.94630000e+02 2.94000000e+00]\n",
            " [6.90500000e-02 0.00000000e+00 2.18000000e+00 0.00000000e+00\n",
            "  4.58000000e-01 7.14700000e+00 5.42000000e+01 6.06220000e+00\n",
            "  2.22000000e+02 1.87000000e+01 3.96900000e+02 1.27154321e+01]]\n"
          ]
        }
      ]
    },
    {
      "cell_type": "markdown",
      "source": [
        "look for outliers using box plot and if There are some outliers in data, use StandardScaler can help in scaling data."
      ],
      "metadata": {
        "id": "forjBjgQHDz0"
      }
    },
    {
      "cell_type": "code",
      "source": [],
      "metadata": {
        "id": "fJVP9gGnFHbM"
      },
      "execution_count": 91,
      "outputs": []
    },
    {
      "cell_type": "markdown",
      "source": [
        "add polynomial features to increase model complexity!\n",
        "\n"
      ],
      "metadata": {
        "id": "mLfX6ugX3fNM"
      }
    },
    {
      "cell_type": "code",
      "source": [],
      "metadata": {
        "id": "rkEQ02jU3fXj"
      },
      "execution_count": 92,
      "outputs": []
    },
    {
      "cell_type": "markdown",
      "source": [
        "Extract the target column from the previously mentioned DataFrame and transform it into a new NumPy array, named y."
      ],
      "metadata": {
        "id": "8_TZ52zNoatM"
      }
    },
    {
      "cell_type": "code",
      "source": [
        "# TODO: extract the MEDV"
      ],
      "metadata": {
        "id": "lzDxTUBFoa4I",
        "colab": {
          "base_uri": "https://localhost:8080/"
        },
        "outputId": "91c7973e-8d77-46b0-a80d-259a22bc8e89"
      },
      "execution_count": 93,
      "outputs": [
        {
          "output_type": "stream",
          "name": "stdout",
          "text": [
            "<class 'numpy.ndarray'>\n",
            "[24.  21.6 34.7 33.4 36.2]\n"
          ]
        }
      ]
    },
    {
      "cell_type": "markdown",
      "source": [
        "\n",
        "\n",
        "Split the dataset into two parts such that the training set contains 80% of the samples."
      ],
      "metadata": {
        "id": "6zVgga7tobBP"
      }
    },
    {
      "cell_type": "code",
      "source": [
        "# TODO: Split the dataset into two parts such that the training set contains 80% of the samples."
      ],
      "metadata": {
        "id": "2LGiy-8LobKh"
      },
      "execution_count": 94,
      "outputs": []
    },
    {
      "cell_type": "markdown",
      "source": [
        "# Training"
      ],
      "metadata": {
        "id": "s-rejkt9FHTj"
      }
    },
    {
      "cell_type": "markdown",
      "source": [
        "\n",
        "Fit a linear regressor to the data. (Use sklearn)\n"
      ],
      "metadata": {
        "id": "_qoiRXLOv25z"
      }
    },
    {
      "cell_type": "code",
      "source": [
        "# TODO: Use sklearn"
      ],
      "metadata": {
        "id": "jWvwdl-Iv3FF",
        "colab": {
          "base_uri": "https://localhost:8080/",
          "height": 75
        },
        "outputId": "e04d3313-9c29-49b4-a947-f0233d77bfe2"
      },
      "execution_count": 95,
      "outputs": [
        {
          "output_type": "execute_result",
          "data": {
            "text/plain": [
              "LinearRegression()"
            ],
            "text/html": [
              "<style>#sk-container-id-13 {color: black;background-color: white;}#sk-container-id-13 pre{padding: 0;}#sk-container-id-13 div.sk-toggleable {background-color: white;}#sk-container-id-13 label.sk-toggleable__label {cursor: pointer;display: block;width: 100%;margin-bottom: 0;padding: 0.3em;box-sizing: border-box;text-align: center;}#sk-container-id-13 label.sk-toggleable__label-arrow:before {content: \"▸\";float: left;margin-right: 0.25em;color: #696969;}#sk-container-id-13 label.sk-toggleable__label-arrow:hover:before {color: black;}#sk-container-id-13 div.sk-estimator:hover label.sk-toggleable__label-arrow:before {color: black;}#sk-container-id-13 div.sk-toggleable__content {max-height: 0;max-width: 0;overflow: hidden;text-align: left;background-color: #f0f8ff;}#sk-container-id-13 div.sk-toggleable__content pre {margin: 0.2em;color: black;border-radius: 0.25em;background-color: #f0f8ff;}#sk-container-id-13 input.sk-toggleable__control:checked~div.sk-toggleable__content {max-height: 200px;max-width: 100%;overflow: auto;}#sk-container-id-13 input.sk-toggleable__control:checked~label.sk-toggleable__label-arrow:before {content: \"▾\";}#sk-container-id-13 div.sk-estimator input.sk-toggleable__control:checked~label.sk-toggleable__label {background-color: #d4ebff;}#sk-container-id-13 div.sk-label input.sk-toggleable__control:checked~label.sk-toggleable__label {background-color: #d4ebff;}#sk-container-id-13 input.sk-hidden--visually {border: 0;clip: rect(1px 1px 1px 1px);clip: rect(1px, 1px, 1px, 1px);height: 1px;margin: -1px;overflow: hidden;padding: 0;position: absolute;width: 1px;}#sk-container-id-13 div.sk-estimator {font-family: monospace;background-color: #f0f8ff;border: 1px dotted black;border-radius: 0.25em;box-sizing: border-box;margin-bottom: 0.5em;}#sk-container-id-13 div.sk-estimator:hover {background-color: #d4ebff;}#sk-container-id-13 div.sk-parallel-item::after {content: \"\";width: 100%;border-bottom: 1px solid gray;flex-grow: 1;}#sk-container-id-13 div.sk-label:hover label.sk-toggleable__label {background-color: #d4ebff;}#sk-container-id-13 div.sk-serial::before {content: \"\";position: absolute;border-left: 1px solid gray;box-sizing: border-box;top: 0;bottom: 0;left: 50%;z-index: 0;}#sk-container-id-13 div.sk-serial {display: flex;flex-direction: column;align-items: center;background-color: white;padding-right: 0.2em;padding-left: 0.2em;position: relative;}#sk-container-id-13 div.sk-item {position: relative;z-index: 1;}#sk-container-id-13 div.sk-parallel {display: flex;align-items: stretch;justify-content: center;background-color: white;position: relative;}#sk-container-id-13 div.sk-item::before, #sk-container-id-13 div.sk-parallel-item::before {content: \"\";position: absolute;border-left: 1px solid gray;box-sizing: border-box;top: 0;bottom: 0;left: 50%;z-index: -1;}#sk-container-id-13 div.sk-parallel-item {display: flex;flex-direction: column;z-index: 1;position: relative;background-color: white;}#sk-container-id-13 div.sk-parallel-item:first-child::after {align-self: flex-end;width: 50%;}#sk-container-id-13 div.sk-parallel-item:last-child::after {align-self: flex-start;width: 50%;}#sk-container-id-13 div.sk-parallel-item:only-child::after {width: 0;}#sk-container-id-13 div.sk-dashed-wrapped {border: 1px dashed gray;margin: 0 0.4em 0.5em 0.4em;box-sizing: border-box;padding-bottom: 0.4em;background-color: white;}#sk-container-id-13 div.sk-label label {font-family: monospace;font-weight: bold;display: inline-block;line-height: 1.2em;}#sk-container-id-13 div.sk-label-container {text-align: center;}#sk-container-id-13 div.sk-container {/* jupyter's `normalize.less` sets `[hidden] { display: none; }` but bootstrap.min.css set `[hidden] { display: none !important; }` so we also need the `!important` here to be able to override the default hidden behavior on the sphinx rendered scikit-learn.org. See: https://github.com/scikit-learn/scikit-learn/issues/21755 */display: inline-block !important;position: relative;}#sk-container-id-13 div.sk-text-repr-fallback {display: none;}</style><div id=\"sk-container-id-13\" class=\"sk-top-container\"><div class=\"sk-text-repr-fallback\"><pre>LinearRegression()</pre><b>In a Jupyter environment, please rerun this cell to show the HTML representation or trust the notebook. <br />On GitHub, the HTML representation is unable to render, please try loading this page with nbviewer.org.</b></div><div class=\"sk-container\" hidden><div class=\"sk-item\"><div class=\"sk-estimator sk-toggleable\"><input class=\"sk-toggleable__control sk-hidden--visually\" id=\"sk-estimator-id-13\" type=\"checkbox\" checked><label for=\"sk-estimator-id-13\" class=\"sk-toggleable__label sk-toggleable__label-arrow\">LinearRegression</label><div class=\"sk-toggleable__content\"><pre>LinearRegression()</pre></div></div></div></div></div>"
            ]
          },
          "metadata": {},
          "execution_count": 95
        }
      ]
    },
    {
      "cell_type": "markdown",
      "source": [
        "Get the coefficients of the variables and visualize it"
      ],
      "metadata": {
        "id": "8ytvTJ60v3Oq"
      }
    },
    {
      "cell_type": "code",
      "source": [],
      "metadata": {
        "id": "Lh9C3xihv3X3",
        "colab": {
          "base_uri": "https://localhost:8080/",
          "height": 748
        },
        "outputId": "0e966ec2-f435-455f-dc8f-71cbeeadcb6e"
      },
      "execution_count": 96,
      "outputs": [
        {
          "output_type": "stream",
          "name": "stdout",
          "text": [
            "Coefficients of the variables in the sklearn: [ 2.6154321   0.82393716  0.27136263 -3.48211983 -1.29409137  3.44585661\n",
            " -1.21943076 -1.81707978 -1.35705037 -0.76272409  0.09412848 -3.26790109\n",
            "  0.18881553 -2.12293611  3.27201664  2.99592944 -2.33583776  0.34763137\n",
            "  0.20874183  2.21883471 -2.3332244  -2.04447912  0.00741757  1.1932215\n",
            " -0.0841126   0.10138591  0.27470966 -2.78021092 -0.15279813  0.76158833\n",
            " -1.08630659  2.9712488  -0.26864023 -3.02213841 -1.60704564  1.31321171\n",
            " -0.31101422 -0.51019783  1.28252455  1.32809034  1.38205448 -0.65090506\n",
            " -1.06080996  0.7722254  -0.50635113  1.37177961 -1.08949576 -0.95013821\n",
            " -0.44543729 -1.69626905  0.54715814 -0.18858163  0.00691852 -0.47122609\n",
            " -0.37917028 -1.24093403  0.37674064  3.63408849  1.95669949 -2.07628197\n",
            " -0.48758374  0.5331536   0.73480488 -0.47672061  0.14479989 -2.03085847\n",
            " -1.1821997  -0.46294466  0.69666166  0.06214453  0.43530299 -0.67289245\n",
            "  0.37224018 -1.12519132 -1.17650773  2.24180978 -2.15987726 -0.53315683\n",
            "  0.44254117  0.74073985 -0.11801545  4.20887909 -1.01095438 -2.4866206\n",
            " -0.48651899  0.10489085  0.07616319 -0.32974278  0.16316054  1.4025542 ]\n"
          ]
        },
        {
          "output_type": "display_data",
          "data": {
            "text/plain": [
              "<Figure size 1000x500 with 1 Axes>"
            ],
            "image/png": "[encoded data removed]"
          },
          "metadata": {}
        }
      ]
    },
    {
      "cell_type": "markdown",
      "source": [
        "Get the score value of sklearn regressor on train dataset</br>\n",
        "if you are not familiar with R-squared concept see the link below:\n",
        "[R-squared](https://statisticsbyjim.com/regression/interpret-r-squared-regression/)\n",
        "\n"
      ],
      "metadata": {
        "id": "eTCcA4W8v3f4"
      }
    },
    {
      "cell_type": "code",
      "source": [
        "# TODO: Calculate R² score and MSE on the training dataset"
      ],
      "metadata": {
        "id": "onAXRIl7v3qJ",
        "colab": {
          "base_uri": "https://localhost:8080/"
        },
        "outputId": "38ef1164-840d-4446-906b-53f8707d8f75"
      },
      "execution_count": 97,
      "outputs": [
        {
          "output_type": "stream",
          "name": "stdout",
          "text": [
            "R² score on the training dataset: 0.9233615957926449\n",
            "MSE on the training dataset: 6.65783903781899\n"
          ]
        }
      ]
    },
    {
      "cell_type": "markdown",
      "source": [
        "Predict the value of \"y\" for each \"x\" belonging to the \"testing\" set"
      ],
      "metadata": {
        "id": "RXBvLGMcwpbT"
      }
    },
    {
      "cell_type": "code",
      "source": [],
      "metadata": {
        "id": "bA_DNqeKwprp"
      },
      "execution_count": 98,
      "outputs": []
    },
    {
      "cell_type": "markdown",
      "source": [
        "# Lasso Regularization(L1)"
      ],
      "metadata": {
        "id": "z_aF3pNEFP79"
      }
    },
    {
      "cell_type": "markdown",
      "source": [
        "L1 regularization, also known as Lasso (Least Absolute Shrinkage and Selection Operator) regularization, is a technique used in regression models that encourages simplicity and sparsity in the model coefficients. This is achieved by adding a penalty equal to the absolute value of the magnitude of coefficients to the loss function.\\\n",
        "</br>\n",
        "Train a regression model using L1 regularization."
      ],
      "metadata": {
        "id": "PPMTy_D_wp-X"
      }
    },
    {
      "cell_type": "code",
      "source": [
        "# TODO: Use Lasso from sklearn library"
      ],
      "metadata": {
        "id": "SHr5JR4fwqHO",
        "colab": {
          "base_uri": "https://localhost:8080/",
          "height": 75
        },
        "outputId": "b923d4b7-3f37-46a1-edd9-872da51e1cb1"
      },
      "execution_count": 99,
      "outputs": [
        {
          "output_type": "execute_result",
          "data": {
            "text/plain": [
              "Lasso(alpha=0.5)"
            ],
            "text/html": [
              "<style>#sk-container-id-14 {color: black;background-color: white;}#sk-container-id-14 pre{padding: 0;}#sk-container-id-14 div.sk-toggleable {background-color: white;}#sk-container-id-14 label.sk-toggleable__label {cursor: pointer;display: block;width: 100%;margin-bottom: 0;padding: 0.3em;box-sizing: border-box;text-align: center;}#sk-container-id-14 label.sk-toggleable__label-arrow:before {content: \"▸\";float: left;margin-right: 0.25em;color: #696969;}#sk-container-id-14 label.sk-toggleable__label-arrow:hover:before {color: black;}#sk-container-id-14 div.sk-estimator:hover label.sk-toggleable__label-arrow:before {color: black;}#sk-container-id-14 div.sk-toggleable__content {max-height: 0;max-width: 0;overflow: hidden;text-align: left;background-color: #f0f8ff;}#sk-container-id-14 div.sk-toggleable__content pre {margin: 0.2em;color: black;border-radius: 0.25em;background-color: #f0f8ff;}#sk-container-id-14 input.sk-toggleable__control:checked~div.sk-toggleable__content {max-height: 200px;max-width: 100%;overflow: auto;}#sk-container-id-14 input.sk-toggleable__control:checked~label.sk-toggleable__label-arrow:before {content: \"▾\";}#sk-container-id-14 div.sk-estimator input.sk-toggleable__control:checked~label.sk-toggleable__label {background-color: #d4ebff;}#sk-container-id-14 div.sk-label input.sk-toggleable__control:checked~label.sk-toggleable__label {background-color: #d4ebff;}#sk-container-id-14 input.sk-hidden--visually {border: 0;clip: rect(1px 1px 1px 1px);clip: rect(1px, 1px, 1px, 1px);height: 1px;margin: -1px;overflow: hidden;padding: 0;position: absolute;width: 1px;}#sk-container-id-14 div.sk-estimator {font-family: monospace;background-color: #f0f8ff;border: 1px dotted black;border-radius: 0.25em;box-sizing: border-box;margin-bottom: 0.5em;}#sk-container-id-14 div.sk-estimator:hover {background-color: #d4ebff;}#sk-container-id-14 div.sk-parallel-item::after {content: \"\";width: 100%;border-bottom: 1px solid gray;flex-grow: 1;}#sk-container-id-14 div.sk-label:hover label.sk-toggleable__label {background-color: #d4ebff;}#sk-container-id-14 div.sk-serial::before {content: \"\";position: absolute;border-left: 1px solid gray;box-sizing: border-box;top: 0;bottom: 0;left: 50%;z-index: 0;}#sk-container-id-14 div.sk-serial {display: flex;flex-direction: column;align-items: center;background-color: white;padding-right: 0.2em;padding-left: 0.2em;position: relative;}#sk-container-id-14 div.sk-item {position: relative;z-index: 1;}#sk-container-id-14 div.sk-parallel {display: flex;align-items: stretch;justify-content: center;background-color: white;position: relative;}#sk-container-id-14 div.sk-item::before, #sk-container-id-14 div.sk-parallel-item::before {content: \"\";position: absolute;border-left: 1px solid gray;box-sizing: border-box;top: 0;bottom: 0;left: 50%;z-index: -1;}#sk-container-id-14 div.sk-parallel-item {display: flex;flex-direction: column;z-index: 1;position: relative;background-color: white;}#sk-container-id-14 div.sk-parallel-item:first-child::after {align-self: flex-end;width: 50%;}#sk-container-id-14 div.sk-parallel-item:last-child::after {align-self: flex-start;width: 50%;}#sk-container-id-14 div.sk-parallel-item:only-child::after {width: 0;}#sk-container-id-14 div.sk-dashed-wrapped {border: 1px dashed gray;margin: 0 0.4em 0.5em 0.4em;box-sizing: border-box;padding-bottom: 0.4em;background-color: white;}#sk-container-id-14 div.sk-label label {font-family: monospace;font-weight: bold;display: inline-block;line-height: 1.2em;}#sk-container-id-14 div.sk-label-container {text-align: center;}#sk-container-id-14 div.sk-container {/* jupyter's `normalize.less` sets `[hidden] { display: none; }` but bootstrap.min.css set `[hidden] { display: none !important; }` so we also need the `!important` here to be able to override the default hidden behavior on the sphinx rendered scikit-learn.org. See: https://github.com/scikit-learn/scikit-learn/issues/21755 */display: inline-block !important;position: relative;}#sk-container-id-14 div.sk-text-repr-fallback {display: none;}</style><div id=\"sk-container-id-14\" class=\"sk-top-container\"><div class=\"sk-text-repr-fallback\"><pre>Lasso(alpha=0.5)</pre><b>In a Jupyter environment, please rerun this cell to show the HTML representation or trust the notebook. <br />On GitHub, the HTML representation is unable to render, please try loading this page with nbviewer.org.</b></div><div class=\"sk-container\" hidden><div class=\"sk-item\"><div class=\"sk-estimator sk-toggleable\"><input class=\"sk-toggleable__control sk-hidden--visually\" id=\"sk-estimator-id-14\" type=\"checkbox\" checked><label for=\"sk-estimator-id-14\" class=\"sk-toggleable__label sk-toggleable__label-arrow\">Lasso</label><div class=\"sk-toggleable__content\"><pre>Lasso(alpha=0.5)</pre></div></div></div></div></div>"
            ]
          },
          "metadata": {},
          "execution_count": 99
        }
      ]
    },
    {
      "cell_type": "markdown",
      "source": [
        "Get the coefficients of the variables and visualize it."
      ],
      "metadata": {
        "id": "du892nvjwqPi"
      }
    },
    {
      "cell_type": "code",
      "source": [],
      "metadata": {
        "id": "W-yiCdq1wqcn",
        "colab": {
          "base_uri": "https://localhost:8080/",
          "height": 748
        },
        "outputId": "ef30ac28-35bb-41ba-bcd3-520d5ef264f8"
      },
      "execution_count": 100,
      "outputs": [
        {
          "output_type": "stream",
          "name": "stdout",
          "text": [
            "Coefficients of the variables: [-0.          0.         -0.          0.         -0.          2.71044561\n",
            " -0.         -0.         -0.17551806 -0.87919831  0.         -3.61571562\n",
            " -0.09172222  0.         -0.          0.         -0.          0.\n",
            " -0.          0.         -0.         -0.         -0.         -0.\n",
            "  0.          0.          0.          0.          0.         -0.\n",
            " -0.          0.          0.         -0.         -0.          0.\n",
            "  0.         -0.         -0.          0.          0.          0.\n",
            " -0.          0.         -0.          0.21657471 -0.         -0.\n",
            "  0.         -0.          0.09712834  0.          0.         -0.\n",
            " -0.20798319 -0.1485112  -0.          0.         -0.         -0.\n",
            "  0.         -0.          0.7562266  -0.          0.         -0.85199921\n",
            " -0.59720675  0.         -0.          0.          0.         -0.\n",
            " -0.         -0.         -0.         -0.          0.          0.\n",
            " -0.          0.26961623  0.          0.         -0.         -0.8353172\n",
            "  0.         -0.         -0.         -0.24304235 -0.          0.46962857]\n"
          ]
        },
        {
          "output_type": "display_data",
          "data": {
            "text/plain": [
              "<Figure size 1000x500 with 1 Axes>"
            ],
            "image/png": "[encoded data removed]"
          },
          "metadata": {}
        }
      ]
    },
    {
      "cell_type": "markdown",
      "source": [
        "1- What observations can you make about the weight distribution when applying L1 regularization?\n",
        "\n",
        "2- How do different values of the regularization parameter (alpha) affect the sparsity of the model coefficients?"
      ],
      "metadata": {
        "id": "mI3QuD8Wydqc"
      }
    },
    {
      "cell_type": "markdown",
      "source": [
        "    Your Answer Goes here.\n"
      ],
      "metadata": {
        "id": "RREHXw6dydzd"
      }
    },
    {
      "cell_type": "markdown",
      "source": [
        "Get the score value on train *dataset*\n"
      ],
      "metadata": {
        "id": "VWHqbCktz2OD"
      }
    },
    {
      "cell_type": "code",
      "source": [
        "# TODO: Calculate R² score and MSE on the training dataset"
      ],
      "metadata": {
        "id": "RbHNlgfTz2WI",
        "colab": {
          "base_uri": "https://localhost:8080/"
        },
        "outputId": "1ceef91c-c952-4d4b-9270-a539410cc97f"
      },
      "execution_count": 101,
      "outputs": [
        {
          "output_type": "stream",
          "name": "stdout",
          "text": [
            "R² score on the training dataset: 0.8171286694481938\n",
            "MSE on the training dataset: 15.88665494849732\n"
          ]
        }
      ]
    },
    {
      "cell_type": "markdown",
      "source": [
        "Predict the value of \"y\" for each \"x\" belonging to the \"testing\" set"
      ],
      "metadata": {
        "id": "hjI1nMXVz2f2"
      }
    },
    {
      "cell_type": "code",
      "source": [],
      "metadata": {
        "id": "KfOWH0oQz2mY"
      },
      "execution_count": 102,
      "outputs": []
    },
    {
      "cell_type": "markdown",
      "source": [
        "# Ridge Regularization(L2)"
      ],
      "metadata": {
        "id": "XHpNCGELFZsu"
      }
    },
    {
      "cell_type": "markdown",
      "source": [
        "L2 regularization, also known as Ridge regularization, is a technique used in regression models to prevent overfitting by adding a penalty equivalent to the square of the magnitude of coefficients to the loss function.\n",
        "</br>\n",
        "Train a regression model using L2 regularization."
      ],
      "metadata": {
        "id": "qsVvbx5vy3LP"
      }
    },
    {
      "cell_type": "code",
      "source": [
        "# TODO: Use Ridge from sklearn library"
      ],
      "metadata": {
        "id": "ww93tqpWwq99",
        "colab": {
          "base_uri": "https://localhost:8080/",
          "height": 75
        },
        "outputId": "951a597a-5bd0-44bd-bdb3-9660207445d5"
      },
      "execution_count": 103,
      "outputs": [
        {
          "output_type": "execute_result",
          "data": {
            "text/plain": [
              "Ridge(alpha=10)"
            ],
            "text/html": [
              "<style>#sk-container-id-15 {color: black;background-color: white;}#sk-container-id-15 pre{padding: 0;}#sk-container-id-15 div.sk-toggleable {background-color: white;}#sk-container-id-15 label.sk-toggleable__label {cursor: pointer;display: block;width: 100%;margin-bottom: 0;padding: 0.3em;box-sizing: border-box;text-align: center;}#sk-container-id-15 label.sk-toggleable__label-arrow:before {content: \"▸\";float: left;margin-right: 0.25em;color: #696969;}#sk-container-id-15 label.sk-toggleable__label-arrow:hover:before {color: black;}#sk-container-id-15 div.sk-estimator:hover label.sk-toggleable__label-arrow:before {color: black;}#sk-container-id-15 div.sk-toggleable__content {max-height: 0;max-width: 0;overflow: hidden;text-align: left;background-color: #f0f8ff;}#sk-container-id-15 div.sk-toggleable__content pre {margin: 0.2em;color: black;border-radius: 0.25em;background-color: #f0f8ff;}#sk-container-id-15 input.sk-toggleable__control:checked~div.sk-toggleable__content {max-height: 200px;max-width: 100%;overflow: auto;}#sk-container-id-15 input.sk-toggleable__control:checked~label.sk-toggleable__label-arrow:before {content: \"▾\";}#sk-container-id-15 div.sk-estimator input.sk-toggleable__control:checked~label.sk-toggleable__label {background-color: #d4ebff;}#sk-container-id-15 div.sk-label input.sk-toggleable__control:checked~label.sk-toggleable__label {background-color: #d4ebff;}#sk-container-id-15 input.sk-hidden--visually {border: 0;clip: rect(1px 1px 1px 1px);clip: rect(1px, 1px, 1px, 1px);height: 1px;margin: -1px;overflow: hidden;padding: 0;position: absolute;width: 1px;}#sk-container-id-15 div.sk-estimator {font-family: monospace;background-color: #f0f8ff;border: 1px dotted black;border-radius: 0.25em;box-sizing: border-box;margin-bottom: 0.5em;}#sk-container-id-15 div.sk-estimator:hover {background-color: #d4ebff;}#sk-container-id-15 div.sk-parallel-item::after {content: \"\";width: 100%;border-bottom: 1px solid gray;flex-grow: 1;}#sk-container-id-15 div.sk-label:hover label.sk-toggleable__label {background-color: #d4ebff;}#sk-container-id-15 div.sk-serial::before {content: \"\";position: absolute;border-left: 1px solid gray;box-sizing: border-box;top: 0;bottom: 0;left: 50%;z-index: 0;}#sk-container-id-15 div.sk-serial {display: flex;flex-direction: column;align-items: center;background-color: white;padding-right: 0.2em;padding-left: 0.2em;position: relative;}#sk-container-id-15 div.sk-item {position: relative;z-index: 1;}#sk-container-id-15 div.sk-parallel {display: flex;align-items: stretch;justify-content: center;background-color: white;position: relative;}#sk-container-id-15 div.sk-item::before, #sk-container-id-15 div.sk-parallel-item::before {content: \"\";position: absolute;border-left: 1px solid gray;box-sizing: border-box;top: 0;bottom: 0;left: 50%;z-index: -1;}#sk-container-id-15 div.sk-parallel-item {display: flex;flex-direction: column;z-index: 1;position: relative;background-color: white;}#sk-container-id-15 div.sk-parallel-item:first-child::after {align-self: flex-end;width: 50%;}#sk-container-id-15 div.sk-parallel-item:last-child::after {align-self: flex-start;width: 50%;}#sk-container-id-15 div.sk-parallel-item:only-child::after {width: 0;}#sk-container-id-15 div.sk-dashed-wrapped {border: 1px dashed gray;margin: 0 0.4em 0.5em 0.4em;box-sizing: border-box;padding-bottom: 0.4em;background-color: white;}#sk-container-id-15 div.sk-label label {font-family: monospace;font-weight: bold;display: inline-block;line-height: 1.2em;}#sk-container-id-15 div.sk-label-container {text-align: center;}#sk-container-id-15 div.sk-container {/* jupyter's `normalize.less` sets `[hidden] { display: none; }` but bootstrap.min.css set `[hidden] { display: none !important; }` so we also need the `!important` here to be able to override the default hidden behavior on the sphinx rendered scikit-learn.org. See: https://github.com/scikit-learn/scikit-learn/issues/21755 */display: inline-block !important;position: relative;}#sk-container-id-15 div.sk-text-repr-fallback {display: none;}</style><div id=\"sk-container-id-15\" class=\"sk-top-container\"><div class=\"sk-text-repr-fallback\"><pre>Ridge(alpha=10)</pre><b>In a Jupyter environment, please rerun this cell to show the HTML representation or trust the notebook. <br />On GitHub, the HTML representation is unable to render, please try loading this page with nbviewer.org.</b></div><div class=\"sk-container\" hidden><div class=\"sk-item\"><div class=\"sk-estimator sk-toggleable\"><input class=\"sk-toggleable__control sk-hidden--visually\" id=\"sk-estimator-id-15\" type=\"checkbox\" checked><label for=\"sk-estimator-id-15\" class=\"sk-toggleable__label sk-toggleable__label-arrow\">Ridge</label><div class=\"sk-toggleable__content\"><pre>Ridge(alpha=10)</pre></div></div></div></div></div>"
            ]
          },
          "metadata": {},
          "execution_count": 103
        }
      ]
    },
    {
      "cell_type": "markdown",
      "source": [
        "Get the coefficients of the variables and visualize it."
      ],
      "metadata": {
        "id": "EwXQdOdQ0c4y"
      }
    },
    {
      "cell_type": "code",
      "source": [],
      "metadata": {
        "id": "CmVqcA6r0dEe",
        "colab": {
          "base_uri": "https://localhost:8080/",
          "height": 748
        },
        "outputId": "f4fc8fc8-c6a0-4b3a-d20d-3f26bed94025"
      },
      "execution_count": 104,
      "outputs": [
        {
          "output_type": "stream",
          "name": "stdout",
          "text": [
            "Coefficients of the variables: [ 0.05912156  0.51116396 -0.28467561 -0.32455353 -0.85827735  3.30888276\n",
            " -1.15903729 -1.59593251 -0.53180157 -0.91042787  0.42828162 -2.94077889\n",
            "  0.16087076 -0.2517118   0.62754054  1.60530016 -1.09008989  0.19857273\n",
            " -0.21466179  0.91315274 -0.33329639 -0.37069977 -0.0685445   0.53227529\n",
            "  0.13451302  0.04174477  0.21402759 -0.19753069 -0.13818418  0.11128147\n",
            " -0.41118718  0.69356948 -0.05349153 -0.33153368 -0.6523907   0.65774546\n",
            "  0.00626011  0.17510478  0.56882038  0.84405893  0.75253857 -0.01735362\n",
            " -0.74138428  0.38541275 -0.84892644  0.44774634 -0.95605317 -0.87633987\n",
            " -0.11780543 -0.84245313  0.77371237 -0.05986682 -0.05282303 -0.5612907\n",
            " -0.35054369 -1.10824908 -0.28920456  0.95796985  0.161939   -0.72743981\n",
            " -0.23024552  0.59678367  0.61007814 -0.35547651  0.25507285 -1.39082276\n",
            " -1.30777268 -0.34506817  0.43935663  0.18768566  0.33640313  0.12071674\n",
            "  0.17082987 -0.88889616 -0.93434533  1.1011708  -0.55229718 -0.01954442\n",
            " -0.25679014  0.78714857  0.62433033  1.95275298 -0.76210143 -1.82196645\n",
            " -0.39640046  0.20411156 -0.0280015  -0.3462849   0.03535942  1.27443078]\n"
          ]
        },
        {
          "output_type": "display_data",
          "data": {
            "text/plain": [
              "<Figure size 1000x500 with 1 Axes>"
            ],
            "image/png": "[encoded data removed]"
          },
          "metadata": {}
        }
      ]
    },
    {
      "cell_type": "markdown",
      "source": [
        "Compare the effect on coefficients between L1 and L2 regularization. What are the key differences?\n",
        "\n",
        " How does the regularization parameter influence the magnitude of the coefficients in Ridge Regression?"
      ],
      "metadata": {
        "id": "uc_LYcVZ0dOQ"
      }
    },
    {
      "cell_type": "markdown",
      "source": [
        "        Your answer goes here"
      ],
      "metadata": {
        "id": "vz3VZj1H1E5D"
      }
    },
    {
      "cell_type": "markdown",
      "source": [
        "Get the score value on train *dataset*"
      ],
      "metadata": {
        "id": "8-vwV52g1KaB"
      }
    },
    {
      "cell_type": "code",
      "source": [
        "# TODO: Calculate R² score and MSE on the training dataset"
      ],
      "metadata": {
        "id": "WgrPqaBF0dlc",
        "colab": {
          "base_uri": "https://localhost:8080/"
        },
        "outputId": "4dcafe8e-e0f0-4127-af17-c691f398226d"
      },
      "execution_count": 105,
      "outputs": [
        {
          "output_type": "stream",
          "name": "stdout",
          "text": [
            "R² score on the training dataset: 0.9143940529441624\n",
            "MSE on the training dataset: 7.436880009084564\n"
          ]
        }
      ]
    },
    {
      "cell_type": "markdown",
      "source": [
        "Predict the value of \"y\" for each \"x\" belonging to the \"testing\" set\n",
        "\n"
      ],
      "metadata": {
        "id": "94nftWCR0dtC"
      }
    },
    {
      "cell_type": "code",
      "source": [],
      "metadata": {
        "id": "ivsbD08X0d1E"
      },
      "execution_count": 106,
      "outputs": []
    },
    {
      "cell_type": "markdown",
      "source": [
        "# Summarization"
      ],
      "metadata": {
        "id": "u6iKDyiwF-2q"
      }
    },
    {
      "cell_type": "markdown",
      "source": [
        "Summarize the performance metrics (e.g., RMSE, R² score) of the basic regression model, Lasso regression, and Ridge regression in a table for easy comparison.(On both test and train data)</br>\n",
        "if you are not familiar with R-squared concept see the link below:\n",
        "[R-squared](https://statisticsbyjim.com/regression/interpret-r-squared-regression/)\n"
      ],
      "metadata": {
        "id": "gY7NOCfB0d9K"
      }
    },
    {
      "cell_type": "code",
      "source": [
        "# HINT: Use DataFrame tools"
      ],
      "metadata": {
        "id": "3gI-6r2r0eEx",
        "colab": {
          "base_uri": "https://localhost:8080/"
        },
        "outputId": "1a052c95-aa03-48a7-86f7-86b9fed0617f"
      },
      "execution_count": 107,
      "outputs": [
        {
          "output_type": "stream",
          "name": "stdout",
          "text": [
            "              Model  MSE(Test)  MSE(Train)  R² Score (Test)  R² Score (Train)\n",
            "0  Basic Regression  18.122077    6.657839         0.752882          0.923362\n",
            "1  Lasso Regression  16.227427   15.886655         0.778718          0.817129\n",
            "2  Ridge Regression  15.110037    7.436880         0.793955          0.914394\n"
          ]
        }
      ]
    },
    {
      "cell_type": "markdown",
      "source": [
        " *Which model performed best on the test data?</br>\n",
        "Why the results on train data are different? </br>\n",
        "Discuss why this might be the case.*"
      ],
      "metadata": {
        "id": "dB2x-l231Soo"
      }
    },
    {
      "cell_type": "markdown",
      "source": [
        "          your answer goes here.\n",
        "        "
      ],
      "metadata": {
        "id": "dRIs24F91SsH"
      }
    }
  ]
}