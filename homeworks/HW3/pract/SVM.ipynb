{
 "cells": [
  {
   "cell_type": "markdown",
   "metadata": {},
   "source": [
    "<img src=\"./sharif.png\" alt=\"SUT logo\" width=300 height=300 align=left class=\"saturate\">\n",
    "\n",
    "<br>\n",
    "<font>\n",
    "<div dir=ltr align=center>\n",
    "<font color=0F5298 size=7>\n",
    "    Machine Learning <br>\n",
    "<font color=2565AE size=5>\n",
    "    Computer Engineering Department <br>\n",
    "    Spring 2024<br>\n",
    "<font color=3C99D size=5>\n",
    "    Practical Assignment 3<br>\n",
    "<font color=696880 size=4>\n",
    "    Ashkan Majidi - Shayan Salehi - Amirhossein Alamdar\n",
    "\n",
    "____"
   ]
  },
  {
   "cell_type": "markdown",
   "metadata": {},
   "source": [
    "# Personal Data"
   ]
  },
  {
   "cell_type": "code",
   "execution_count": 2,
   "metadata": {},
   "outputs": [],
   "source": [
    "student_number = '402212269'\n",
    "first_name = 'Amir Mohammad'\n",
    "last_name = 'Ezzati'"
   ]
  },
  {
   "cell_type": "markdown",
   "metadata": {},
   "source": [
    "# Introduction\n",
    "\n",
    "In this assignment, you will implement SVM (Support Vector Machines) for classification.\n"
   ]
  },
  {
   "cell_type": "markdown",
   "metadata": {},
   "source": [
    "# Data Preprocessing"
   ]
  },
  {
   "cell_type": "markdown",
   "metadata": {},
   "source": [
    "Import your needed libraries in following cell."
   ]
  },
  {
   "cell_type": "code",
   "execution_count": null,
   "metadata": {},
   "outputs": [],
   "source": [
    "pip install cvxopt"
   ]
  },
  {
   "cell_type": "code",
   "execution_count": 7,
   "metadata": {},
   "outputs": [],
   "source": [
    "# TODO: Write your code here\n",
    "from sklearn.model_selection import train_test_split\n",
    "import numpy as np\n",
    "import pandas as pd\n",
    "import seaborn as sns\n",
    "from matplotlib import pyplot as plt\n",
    "from sklearn.preprocessing import StandardScaler\n"
   ]
  },
  {
   "cell_type": "markdown",
   "metadata": {},
   "source": [
    "Load data from ```satimage``` dataset and split data to features and labels. The ```label``` column is our target variable. "
   ]
  },
  {
   "cell_type": "code",
   "execution_count": 2,
   "metadata": {},
   "outputs": [],
   "source": [
    "# TODO: Write your code here\n",
    "dataset = pd.read_csv('Data/satimage.csv')\n",
    "features = dataset[dataset.columns[:-1]].to_numpy()\n",
    "labels = dataset['label'].to_numpy()"
   ]
  },
  {
   "cell_type": "code",
   "execution_count": 6,
   "metadata": {},
   "outputs": [
    {
     "data": {
      "text/html": [
       "<div>\n",
       "<style scoped>\n",
       "    .dataframe tbody tr th:only-of-type {\n",
       "        vertical-align: middle;\n",
       "    }\n",
       "\n",
       "    .dataframe tbody tr th {\n",
       "        vertical-align: top;\n",
       "    }\n",
       "\n",
       "    .dataframe thead th {\n",
       "        text-align: right;\n",
       "    }\n",
       "</style>\n",
       "<table border=\"1\" class=\"dataframe\">\n",
       "  <thead>\n",
       "    <tr style=\"text-align: right;\">\n",
       "      <th></th>\n",
       "      <th>0</th>\n",
       "      <th>1</th>\n",
       "      <th>2</th>\n",
       "      <th>3</th>\n",
       "      <th>4</th>\n",
       "      <th>5</th>\n",
       "      <th>6</th>\n",
       "      <th>7</th>\n",
       "      <th>8</th>\n",
       "      <th>9</th>\n",
       "      <th>...</th>\n",
       "      <th>27</th>\n",
       "      <th>28</th>\n",
       "      <th>29</th>\n",
       "      <th>30</th>\n",
       "      <th>31</th>\n",
       "      <th>32</th>\n",
       "      <th>33</th>\n",
       "      <th>34</th>\n",
       "      <th>35</th>\n",
       "      <th>label</th>\n",
       "    </tr>\n",
       "  </thead>\n",
       "  <tbody>\n",
       "    <tr>\n",
       "      <th>0</th>\n",
       "      <td>7.5</td>\n",
       "      <td>6.272730</td>\n",
       "      <td>4.047619</td>\n",
       "      <td>3.975208</td>\n",
       "      <td>3.032258</td>\n",
       "      <td>4.545455</td>\n",
       "      <td>8.421050</td>\n",
       "      <td>1.8125</td>\n",
       "      <td>-2.2500</td>\n",
       "      <td>0.077672</td>\n",
       "      <td>...</td>\n",
       "      <td>-0.600000</td>\n",
       "      <td>-0.138462</td>\n",
       "      <td>-0.188119</td>\n",
       "      <td>-0.431579</td>\n",
       "      <td>-0.546875</td>\n",
       "      <td>-0.15625</td>\n",
       "      <td>-0.126214</td>\n",
       "      <td>-0.431579</td>\n",
       "      <td>-0.484375</td>\n",
       "      <td>6.0</td>\n",
       "    </tr>\n",
       "    <tr>\n",
       "      <th>1</th>\n",
       "      <td>7.5</td>\n",
       "      <td>4.090909</td>\n",
       "      <td>-0.714290</td>\n",
       "      <td>1.776858</td>\n",
       "      <td>2.903226</td>\n",
       "      <td>3.090909</td>\n",
       "      <td>5.052630</td>\n",
       "      <td>-1.7500</td>\n",
       "      <td>-2.2500</td>\n",
       "      <td>0.077672</td>\n",
       "      <td>...</td>\n",
       "      <td>-0.600000</td>\n",
       "      <td>-0.015385</td>\n",
       "      <td>-0.049505</td>\n",
       "      <td>-0.431579</td>\n",
       "      <td>-0.609375</td>\n",
       "      <td>-0.15625</td>\n",
       "      <td>-0.126214</td>\n",
       "      <td>-0.494737</td>\n",
       "      <td>-0.609375</td>\n",
       "      <td>6.0</td>\n",
       "    </tr>\n",
       "    <tr>\n",
       "      <th>2</th>\n",
       "      <td>12.0</td>\n",
       "      <td>9.909090</td>\n",
       "      <td>8.333330</td>\n",
       "      <td>5.479339</td>\n",
       "      <td>3.354839</td>\n",
       "      <td>7.272730</td>\n",
       "      <td>10.526316</td>\n",
       "      <td>2.7500</td>\n",
       "      <td>3.4375</td>\n",
       "      <td>6.368924</td>\n",
       "      <td>...</td>\n",
       "      <td>-0.233333</td>\n",
       "      <td>0.200000</td>\n",
       "      <td>0.207921</td>\n",
       "      <td>-0.010526</td>\n",
       "      <td>-0.312500</td>\n",
       "      <td>-0.15625</td>\n",
       "      <td>0.009709</td>\n",
       "      <td>-0.326316</td>\n",
       "      <td>-0.437500</td>\n",
       "      <td>6.0</td>\n",
       "    </tr>\n",
       "    <tr>\n",
       "      <th>3</th>\n",
       "      <td>7.5</td>\n",
       "      <td>4.818182</td>\n",
       "      <td>1.190480</td>\n",
       "      <td>2.702482</td>\n",
       "      <td>2.774194</td>\n",
       "      <td>2.363640</td>\n",
       "      <td>5.894740</td>\n",
       "      <td>-0.2500</td>\n",
       "      <td>-3.8750</td>\n",
       "      <td>-2.368924</td>\n",
       "      <td>...</td>\n",
       "      <td>-0.383333</td>\n",
       "      <td>-0.138462</td>\n",
       "      <td>-0.049505</td>\n",
       "      <td>-0.347368</td>\n",
       "      <td>-0.484375</td>\n",
       "      <td>0.09375</td>\n",
       "      <td>0.087379</td>\n",
       "      <td>-0.031579</td>\n",
       "      <td>-0.218750</td>\n",
       "      <td>6.0</td>\n",
       "    </tr>\n",
       "    <tr>\n",
       "      <th>4</th>\n",
       "      <td>7.5</td>\n",
       "      <td>4.818182</td>\n",
       "      <td>2.142860</td>\n",
       "      <td>2.702482</td>\n",
       "      <td>3.032258</td>\n",
       "      <td>3.090909</td>\n",
       "      <td>6.736840</td>\n",
       "      <td>-1.0000</td>\n",
       "      <td>-0.6250</td>\n",
       "      <td>-1.320388</td>\n",
       "      <td>...</td>\n",
       "      <td>-0.183333</td>\n",
       "      <td>0.230769</td>\n",
       "      <td>0.267327</td>\n",
       "      <td>-0.031579</td>\n",
       "      <td>-0.281250</td>\n",
       "      <td>-0.03125</td>\n",
       "      <td>-0.126214</td>\n",
       "      <td>-0.431579</td>\n",
       "      <td>-0.546875</td>\n",
       "      <td>6.0</td>\n",
       "    </tr>\n",
       "  </tbody>\n",
       "</table>\n",
       "<p>5 rows × 37 columns</p>\n",
       "</div>"
      ],
      "text/plain": [
       "      0         1         2         3         4         5          6       7  \\\n",
       "0   7.5  6.272730  4.047619  3.975208  3.032258  4.545455   8.421050  1.8125   \n",
       "1   7.5  4.090909 -0.714290  1.776858  2.903226  3.090909   5.052630 -1.7500   \n",
       "2  12.0  9.909090  8.333330  5.479339  3.354839  7.272730  10.526316  2.7500   \n",
       "3   7.5  4.818182  1.190480  2.702482  2.774194  2.363640   5.894740 -0.2500   \n",
       "4   7.5  4.818182  2.142860  2.702482  3.032258  3.090909   6.736840 -1.0000   \n",
       "\n",
       "        8         9  ...        27        28        29        30        31  \\\n",
       "0 -2.2500  0.077672  ... -0.600000 -0.138462 -0.188119 -0.431579 -0.546875   \n",
       "1 -2.2500  0.077672  ... -0.600000 -0.015385 -0.049505 -0.431579 -0.609375   \n",
       "2  3.4375  6.368924  ... -0.233333  0.200000  0.207921 -0.010526 -0.312500   \n",
       "3 -3.8750 -2.368924  ... -0.383333 -0.138462 -0.049505 -0.347368 -0.484375   \n",
       "4 -0.6250 -1.320388  ... -0.183333  0.230769  0.267327 -0.031579 -0.281250   \n",
       "\n",
       "        32        33        34        35  label  \n",
       "0 -0.15625 -0.126214 -0.431579 -0.484375    6.0  \n",
       "1 -0.15625 -0.126214 -0.494737 -0.609375    6.0  \n",
       "2 -0.15625  0.009709 -0.326316 -0.437500    6.0  \n",
       "3  0.09375  0.087379 -0.031579 -0.218750    6.0  \n",
       "4 -0.03125 -0.126214 -0.431579 -0.546875    6.0  \n",
       "\n",
       "[5 rows x 37 columns]"
      ]
     },
     "execution_count": 6,
     "metadata": {},
     "output_type": "execute_result"
    }
   ],
   "source": [
    "dataset.head()"
   ]
  },
  {
   "cell_type": "markdown",
   "metadata": {},
   "source": [
    "Now split data to train, validation and test parts. 60% of data should be used for train, 15% for validation and 25% for test. After that scale the data to Standard Normal Distribution using ```StandardScaler``` class from ```scikit-learn``` library."
   ]
  },
  {
   "cell_type": "code",
   "execution_count": 3,
   "metadata": {},
   "outputs": [
    {
     "data": {
      "text/plain": [
       "((6435, 36), (6435,))"
      ]
     },
     "execution_count": 3,
     "metadata": {},
     "output_type": "execute_result"
    }
   ],
   "source": [
    "features.shape, labels.shape"
   ]
  },
  {
   "cell_type": "code",
   "execution_count": 24,
   "metadata": {},
   "outputs": [],
   "source": [
    "# TODO: Write your code here\n",
    "x_train, x_val, y_train, y_val = train_test_split(features, labels, test_size=0.4, random_state=23)\n",
    "x_val, x_test, y_val, y_test = train_test_split(x_val, y_val, test_size=0.625, random_state=23)\n",
    "\n",
    "\n",
    "scaler = StandardScaler()\n",
    "x_train_scaled = scaler.fit_transform(x_train)\n",
    "x_val_scaled = scaler.transform(x_val)\n",
    "x_test_scaled = scaler.transform(x_test)"
   ]
  },
  {
   "cell_type": "code",
   "execution_count": 25,
   "metadata": {},
   "outputs": [
    {
     "data": {
      "text/plain": [
       "((3861, 36), (965, 36), (1609, 36))"
      ]
     },
     "execution_count": 25,
     "metadata": {},
     "output_type": "execute_result"
    }
   ],
   "source": [
    "x_train_scaled.shape, x_val_scaled.shape, x_test_scaled.shape"
   ]
  },
  {
   "cell_type": "markdown",
   "metadata": {},
   "source": [
    "We want to train Binary SVM model for classification between labels 4 and 6. Choose corresponding datas and convert their lables to 1 and -1 respectively for 4 and 6."
   ]
  },
  {
   "cell_type": "code",
   "execution_count": 26,
   "metadata": {},
   "outputs": [],
   "source": [
    "# TODO: Write your code here\n",
    "\n",
    "# get only lables 4 and 6 in all datasets\n",
    "train_indices = np.where((y_train == 4) | (y_train == 6))\n",
    "val_indices = np.where((y_val == 4) | (y_val == 6))\n",
    "test_indices = np.where((y_test == 4) | (y_test == 6))\n",
    "\n",
    "x_train_filtered = x_train_scaled[train_indices]\n",
    "y_train_filtered = y_train[train_indices]\n",
    "\n",
    "x_val_filtered = x_val_scaled[val_indices]\n",
    "y_val_filtered = y_val[val_indices]\n",
    "\n",
    "x_test_filtered = x_test_scaled[test_indices]\n",
    "y_test_filtered = y_test[test_indices]\n",
    "\n",
    "# convert labels to 1 and -1\n",
    "y_train_filtered[y_train_filtered == 4] = 1\n",
    "y_val_filtered[y_val_filtered == 4] = 1\n",
    "y_test_filtered[y_test_filtered == 4] = 1\n",
    "\n",
    "y_val_filtered[y_val_filtered == 6] = -1\n",
    "y_train_filtered[y_train_filtered == 6] = -1\n",
    "y_test_filtered[y_test_filtered == 6] = -1\n"
   ]
  },
  {
   "cell_type": "code",
   "execution_count": 27,
   "metadata": {},
   "outputs": [
    {
     "data": {
      "text/plain": [
       "((1234, 36), (346, 36), (554, 36))"
      ]
     },
     "execution_count": 27,
     "metadata": {},
     "output_type": "execute_result"
    }
   ],
   "source": [
    "x_train_filtered.shape, x_val_filtered.shape, x_test_filtered.shape"
   ]
  },
  {
   "cell_type": "markdown",
   "metadata": {},
   "source": [
    "# Model (50 points)"
   ]
  },
  {
   "cell_type": "markdown",
   "metadata": {},
   "source": [
    "Here is soft margin svm convex optimization formulation. \n",
    "$$\n",
    "\\begin{aligned}\n",
    "\\text { Minimize } & \\frac{1}{2}\\|\\mathbf{w}\\|^2+C \\sum_{i=1}^N \\xi_i \\\\\n",
    "\\text { Subject to } & y_i\\left(\\mathbf{w}^T \\mathbf{x}_i+b\\right) \\geq 1-\\xi_i, \\quad i=1,2, \\ldots, N \\\\\n",
    "& \\xi_i \\geq 0, \\quad i=1,2, \\ldots, N\n",
    "\\end{aligned}\n",
    "$$\n",
    "write dual of the soft margin svm optimization problem below:"
   ]
  },
  {
   "cell_type": "markdown",
   "metadata": {},
   "source": [
    "`TODO: Write Here`"
   ]
  },
  {
   "cell_type": "markdown",
   "metadata": {},
   "source": [
    "\\begin{gathered}\n",
    "0 \\leq \\alpha_i \\leq C, \\quad i=1,2, \\ldots, N \\\\\n",
    "\\qquad \\sum_{i=1}^N \\alpha_i y_i=0 \\\\\n",
    "\\text { Maximize } \\sum_{i=1}^N \\alpha_i-\\frac{1}{2} \\sum_{i=1}^N \\sum_{j=1}^N \\alpha_i \\alpha_j y_i y_j\\left\\langle x_i, x_j\\right\\rangle\n",
    "\\end{gathered}"
   ]
  },
  {
   "cell_type": "markdown",
   "metadata": {},
   "source": [
    "Now you should write this optimization problem in standard Quadratic Program (QP) form and use a QP solver to find optimal answer. Here is General form of a QP:\n",
    "$$\n",
    "\\begin{aligned}\n",
    "\\text { Minimize } & \\frac{1}{2} x^TPx + q^Tx + r \\\\\n",
    "\\text { Subject to } & Gx \\leq h \\\\\n",
    "& Ax = b\n",
    "\\end{aligned}\n",
    "$$\n",
    "\n",
    "Complete functions below and use ```cvxopt``` library which is a common library for solving QPs. Note that you can't use ```scikit-learn``` library.\n"
   ]
  },
  {
   "cell_type": "code",
   "execution_count": 63,
   "metadata": {},
   "outputs": [],
   "source": [
    "from cvxopt import matrix, solvers\n",
    "\n",
    "def soft_margin_svm(X, y, C):\n",
    "    \"\"\"\n",
    "    input:\n",
    "        X: training data\n",
    "        y: training labels\n",
    "        C: errors weight\n",
    "    output:\n",
    "        support_vectros: data points which are SVs of our model.\n",
    "        support_vector_labels: labels of SVs\n",
    "        support_vector_alphas: alpha coefficient of corresponding SVs \n",
    "    \"\"\"\n",
    "\n",
    "    # TODO: Write your code here\n",
    "    n_samples, n_features = X.shape\n",
    "\n",
    "    K = np.zeros((n_samples, n_samples))\n",
    "    for i in range(n_samples):\n",
    "        for j in range(n_samples):\n",
    "            K[i, j] = np.dot(X[i], X[j])\n",
    "\n",
    "    P = matrix(np.outer(y, y) * K)\n",
    "    q = matrix(np.ones(n_samples) * -1)\n",
    "    A = matrix(y, (1, n_samples))\n",
    "    b = matrix(0.0)\n",
    "\n",
    "    if C is None:\n",
    "        G = matrix(np.diag(np.ones(n_samples) * -1))\n",
    "        h = matrix(np.zeros(n_samples))\n",
    "    else:\n",
    "        tmp1 = np.diag(np.ones(n_samples) * -1)\n",
    "        tmp2 = np.identity(n_samples)\n",
    "        G = matrix(np.vstack((tmp1, tmp2)))\n",
    "        tmp1 = np.zeros(n_samples)\n",
    "        tmp2 = np.ones(n_samples) * C\n",
    "        h = matrix(np.hstack((tmp1, tmp2)))\n",
    "\n",
    "    # solve QP problem\n",
    "    solution = solvers.qp(P, q, G, h, A, b)\n",
    "\n",
    "    alphas = np.ravel(solution['x'])\n",
    "\n",
    "    sv_indices = alphas > 1e-5\n",
    "    support_vectors = X[sv_indices]\n",
    "    support_vector_labels = y[sv_indices]\n",
    "    support_vector_alphas= alphas[sv_indices]\n",
    "\n",
    "    print(f\"{len(support_vectors)} support vectors out of {n_samples} points\")\n",
    "\n",
    "    return support_vectors, support_vector_labels, support_vector_alphas"
   ]
  },
  {
   "cell_type": "code",
   "execution_count": 61,
   "metadata": {},
   "outputs": [
    {
     "name": "stdout",
     "output_type": "stream",
     "text": [
      "     pcost       dcost       gap    pres   dres\n",
      " 0: -5.9280e+02 -3.3350e+03  2e+04  3e+00  2e-13\n",
      " 1: -4.0417e+02 -2.2662e+03  3e+03  4e-01  1e-13\n",
      " 2: -3.7832e+02 -7.6370e+02  5e+02  3e-02  1e-13\n",
      " 3: -4.2408e+02 -5.4735e+02  1e+02  8e-03  1e-13\n",
      " 4: -4.4379e+02 -5.1122e+02  7e+01  4e-03  1e-13\n",
      " 5: -4.5413e+02 -4.9142e+02  4e+01  2e-03  1e-13\n",
      " 6: -4.5949e+02 -4.8128e+02  2e+01  7e-04  1e-13\n",
      " 7: -4.6452e+02 -4.7297e+02  9e+00  2e-04  1e-13\n",
      " 8: -4.6648e+02 -4.7005e+02  4e+00  8e-05  1e-13\n",
      " 9: -4.6751e+02 -4.6852e+02  1e+00  1e-05  1e-13\n",
      "10: -4.6783e+02 -4.6809e+02  3e-01  2e-07  1e-13\n",
      "11: -4.6795e+02 -4.6796e+02  1e-02  4e-09  1e-13\n",
      "12: -4.6795e+02 -4.6795e+02  4e-04  1e-10  1e-13\n",
      "Optimal solution found.\n",
      "495 support vectors out of 1234 points\n"
     ]
    }
   ],
   "source": [
    "C = 1.0\n",
    "support_vectors, support_vector_labels, support_vector_alphas = soft_margin_svm(x_train_filtered, y_train_filtered, C)"
   ]
  },
  {
   "cell_type": "code",
   "execution_count": 51,
   "metadata": {},
   "outputs": [],
   "source": [
    "def predict_labels(x_test, support_vectors, support_vector_labels, support_vector_alphas):\n",
    "    \"\"\"\n",
    "    input:\n",
    "        x_test: test data\n",
    "        support_vectros: data points which are SVs of our model.\n",
    "        support_vector_labels: labels of SVs\n",
    "        support_vector_alphas: alpha coefficient of corresponding SVs \n",
    "    output:\n",
    "        y_pred: predictoin labels\n",
    "    \"\"\"\n",
    "    \n",
    "    # TODO: Write your code here\n",
    "    n_test_samples = x_test.shape[0]\n",
    "    y_pred = np.zeros(n_test_samples)\n",
    "\n",
    "    for i in range(n_test_samples):\n",
    "        prediction = 0\n",
    "        for alpha, sv_label, sv in zip(support_vector_alphas, support_vector_labels, support_vectors):\n",
    "            prediction += alpha * sv_label * np.dot(sv, x_test[i])\n",
    "        y_pred[i] = np.sign(prediction)\n",
    "\n",
    "    return y_pred"
   ]
  },
  {
   "cell_type": "code",
   "execution_count": 52,
   "metadata": {},
   "outputs": [],
   "source": [
    "y_pred = predict_labels(np.array(x_test_filtered), support_vectors, support_vector_labels, support_vector_alphas)"
   ]
  },
  {
   "cell_type": "markdown",
   "metadata": {},
   "source": [
    "# Evaluation (20 points)"
   ]
  },
  {
   "cell_type": "markdown",
   "metadata": {},
   "source": [
    "Compute accuracy, balanced accuracy and plot confusion matrix of your trained model using ```Seaborn.heatmap()``` function. Use case of balanced accuracy is when dealing with imbalanced data, i.e. when one of the target classes appears a lot more than the other and it is defined by average of recall of classes. Confusion matrix is a $k\\times k$ (k is number of classes) matrix which cell ij is showing that number of data points labeld i which predicted j. For more detail of evaluation metrics you can see [here](https://neptune.ai/blog/balanced-accuracy).\n",
    "\n",
    "You may use ```scikit-learn``` library to compute these metrics."
   ]
  },
  {
   "cell_type": "code",
   "execution_count": 53,
   "metadata": {},
   "outputs": [
    {
     "name": "stdout",
     "output_type": "stream",
     "text": [
      "Accuracy:  0.8176895306859205\n",
      "Balanced Accuracy:  0.7574421513445904\n",
      "Confusion Matrix:\n",
      " [[353  37]\n",
      " [ 64 100]]\n"
     ]
    }
   ],
   "source": [
    "from sklearn.metrics import accuracy_score, balanced_accuracy_score, confusion_matrix\n",
    "\n",
    "def evaluate(y_test, y_pred):\n",
    "    \"\"\"\n",
    "    input:\n",
    "        y_test: true labels\n",
    "        y_pred: predicted labels\n",
    "    output:\n",
    "        accuracy: accuracy of the model\n",
    "        balanced_accuracy: balanced accuracy of the model\n",
    "        confusion_matrix: confusion matrix of the model\n",
    "    \"\"\"\n",
    "    # TODO: Write your code here\n",
    "\n",
    "    accuracy = accuracy_score(y_test, y_pred)\n",
    "    balanced_accuracy = balanced_accuracy_score(y_test, y_pred)\n",
    "    confusion_mat = confusion_matrix(y_test, y_pred)\n",
    "\n",
    "    print(\"Accuracy: \", accuracy)\n",
    "    print(\"Balanced Accuracy: \", balanced_accuracy)\n",
    "    print(\"Confusion Matrix:\\n\", confusion_mat)\n",
    "    return accuracy, balanced_accuracy, confusion_mat\n",
    "\n",
    "\n",
    "_, _, confusion_mat = evaluate(y_test_filtered, y_pred)"
   ]
  },
  {
   "cell_type": "code",
   "execution_count": 54,
   "metadata": {},
   "outputs": [
    {
     "data": {
      "text/plain": [
       "<Axes: >"
      ]
     },
     "execution_count": 54,
     "metadata": {},
     "output_type": "execute_result"
    },
    {
     "data": {
      "image/png": "[encoded data removed]",
      "text/plain": [
       "<Figure size 640x480 with 2 Axes>"
      ]
     },
     "metadata": {},
     "output_type": "display_data"
    }
   ],
   "source": [
    "cm_matrix = pd.DataFrame(data=confusion_mat, columns=['Predict Negative:-1', 'Predict Positive:1'],\n",
    "                                 index=['Actual Negative:-1', 'Actual Positive:1'])\n",
    "\n",
    "sns.heatmap(cm_matrix, annot=True, fmt='d', cmap='mako')"
   ]
  },
  {
   "cell_type": "markdown",
   "metadata": {},
   "source": [
    "# Fine-tunning (40 points)"
   ]
  },
  {
   "cell_type": "markdown",
   "metadata": {},
   "source": [
    "like what you did before, implement Soft Margin SVM but now use rbf kernel. To determine rbf $\\gamma$ parameter use validation datas and find best(best by balanced accuracy) $\\gamma$ between 0.001 , 0.01, 1, 10, 100. Not that you can't use ```scikit-learn``` library here."
   ]
  },
  {
   "cell_type": "code",
   "execution_count": 130,
   "metadata": {},
   "outputs": [],
   "source": [
    "def rbf(x1, x2, gamma=1):\n",
    "    \"\"\"\n",
    "    input:\n",
    "        x1: first vector\n",
    "        x2: second vector\n",
    "        gamma: rbf kernel parameter with defalt value 1.\n",
    "    output:\n",
    "        ouput: computed rbf of two input vectors\n",
    "    \"\"\"\n",
    "    # TODO: Write your code here\n",
    "    dd = x1 - x2\n",
    "    res = - gamma * np.dot(dd,dd)\n",
    "    output = np.exp(res)\n",
    "    return output\n",
    "\n",
    "def soft_margin_svm(X, y, C, gamma=1):\n",
    "    \"\"\"\n",
    "    input:\n",
    "        X: training data\n",
    "        y: training labels\n",
    "        C: errors weight\n",
    "        gamma: rbf kernel parameter with defalt value 1.\n",
    "    output:\n",
    "        support_vectros: data points which are SVs of our model.\n",
    "        support_vector_labels: labels of SVs\n",
    "        support_vector_alphas: alpha coefficient of corresponding SVs \n",
    "    \"\"\"\n",
    "\n",
    "    # TODO: Write your code here\n",
    "    n_samples, n_features = X.shape\n",
    "\n",
    "    K = np.zeros((n_samples, n_samples))\n",
    "    for i in range(n_samples):\n",
    "        for j in range(n_samples):\n",
    "            K[i, j] = rbf(X[i], X[j], gamma)\n",
    "\n",
    "    P = matrix(np.outer(y, y) * K)\n",
    "    q = matrix(np.ones(n_samples) * -1)\n",
    "    A = matrix(y, (1, n_samples))\n",
    "    b = matrix(0.0)\n",
    "\n",
    "    if C is None:\n",
    "        G = matrix(np.diag(np.ones(n_samples) * -1))\n",
    "        h = matrix(np.zeros(n_samples))\n",
    "    else:\n",
    "        tmp1 = np.diag(np.ones(n_samples) * -1)\n",
    "        tmp2 = np.identity(n_samples)\n",
    "        G = matrix(np.vstack((tmp1, tmp2)))\n",
    "        tmp1 = np.zeros(n_samples)\n",
    "        tmp2 = np.ones(n_samples) * C\n",
    "        h = matrix(np.hstack((tmp1, tmp2)))\n",
    "\n",
    "    # solve QP problem\n",
    "    solution = solvers.qp(P, q, G, h, A, b)\n",
    "\n",
    "    alphas = np.ravel(solution['x'])\n",
    "\n",
    "    sv_indices = alphas > 1e-5\n",
    "    support_vectors = X[sv_indices]\n",
    "    support_vector_labels = y[sv_indices]\n",
    "    support_vector_alphas= alphas[sv_indices]\n",
    "\n",
    "    print(f\"{len(support_vectors)} support vectors out of {n_samples} points\")\n",
    "\n",
    "    return support_vectors, support_vector_labels, support_vector_alphas"
   ]
  },
  {
   "cell_type": "code",
   "execution_count": 70,
   "metadata": {},
   "outputs": [
    {
     "name": "stdout",
     "output_type": "stream",
     "text": [
      "gamma = 0.1\n",
      "     pcost       dcost       gap    pres   dres\n",
      " 0: -3.3957e+02 -2.9462e+03  1e+04  3e+00  4e-15\n",
      " 1: -2.4507e+02 -1.8235e+03  2e+03  2e-01  4e-15\n",
      " 2: -2.5976e+02 -5.2001e+02  3e+02  2e-02  3e-15\n",
      " 3: -2.9372e+02 -4.0103e+02  1e+02  6e-03  3e-15\n",
      " 4: -3.0740e+02 -3.6094e+02  6e+01  3e-03  3e-15\n",
      " 5: -3.1682e+02 -3.3624e+02  2e+01  7e-04  3e-15\n",
      " 6: -3.2076e+02 -3.2742e+02  7e+00  5e-05  4e-15\n",
      " 7: -3.2201e+02 -3.2505e+02  3e+00  2e-05  3e-15\n",
      " 8: -3.2265e+02 -3.2383e+02  1e+00  9e-15  4e-15\n",
      " 9: -3.2308e+02 -3.2323e+02  2e-01  8e-15  4e-15\n",
      "10: -3.2314e+02 -3.2316e+02  2e-02  9e-15  4e-15\n",
      "11: -3.2315e+02 -3.2315e+02  8e-04  6e-15  4e-15\n",
      "12: -3.2315e+02 -3.2315e+02  2e-05  1e-14  4e-15\n",
      "Optimal solution found.\n",
      "446 support vectors out of 1234 points\n",
      "Accuracy:  0.7658959537572254\n",
      "Balanced Accuracy:  0.602499155690645\n",
      "Confusion Matrix:\n",
      " [[242  10]\n",
      " [ 71  23]]\n",
      "gamma = 0.1\n",
      "     pcost       dcost       gap    pres   dres\n",
      " 0: -3.3957e+02 -2.9462e+03  1e+04  3e+00  4e-15\n",
      " 1: -2.4507e+02 -1.8235e+03  2e+03  2e-01  4e-15\n",
      " 2: -2.5976e+02 -5.2001e+02  3e+02  2e-02  3e-15\n",
      " 3: -2.9372e+02 -4.0103e+02  1e+02  6e-03  3e-15\n",
      " 4: -3.0740e+02 -3.6094e+02  6e+01  3e-03  3e-15\n",
      " 5: -3.1682e+02 -3.3624e+02  2e+01  7e-04  3e-15\n",
      " 6: -3.2076e+02 -3.2742e+02  7e+00  5e-05  4e-15\n",
      " 7: -3.2201e+02 -3.2505e+02  3e+00  2e-05  3e-15\n",
      " 8: -3.2265e+02 -3.2383e+02  1e+00  9e-15  4e-15\n",
      " 9: -3.2308e+02 -3.2323e+02  2e-01  8e-15  4e-15\n",
      "10: -3.2314e+02 -3.2316e+02  2e-02  9e-15  4e-15\n",
      "11: -3.2315e+02 -3.2315e+02  8e-04  6e-15  4e-15\n",
      "12: -3.2315e+02 -3.2315e+02  2e-05  1e-14  4e-15\n",
      "Optimal solution found.\n",
      "446 support vectors out of 1234 points\n",
      "Accuracy:  0.7658959537572254\n",
      "Balanced Accuracy:  0.602499155690645\n",
      "Confusion Matrix:\n",
      " [[242  10]\n",
      " [ 71  23]]\n",
      "gamma = 1\n",
      "     pcost       dcost       gap    pres   dres\n",
      " 0: -2.3598e+02 -2.1612e+03  7e+03  2e+00  1e-15\n",
      " 1: -2.1381e+02 -1.2000e+03  1e+03  1e-01  5e-16\n",
      " 2: -2.3286e+02 -3.9049e+02  2e+02  1e-02  7e-16\n",
      " 3: -2.4765e+02 -2.8708e+02  4e+01  3e-03  4e-16\n",
      " 4: -2.5256e+02 -2.6097e+02  8e+00  3e-04  3e-16\n",
      " 5: -2.5376e+02 -2.5571e+02  2e+00  5e-05  3e-16\n",
      " 6: -2.5409e+02 -2.5445e+02  4e-01  6e-06  3e-16\n",
      " 7: -2.5416e+02 -2.5420e+02  3e-02  2e-07  3e-16\n",
      " 8: -2.5417e+02 -2.5417e+02  2e-03  1e-08  3e-16\n",
      " 9: -2.5417e+02 -2.5417e+02  4e-05  2e-10  3e-16\n",
      "Optimal solution found.\n",
      "876 support vectors out of 1234 points\n",
      "Accuracy:  0.7890173410404624\n",
      "Balanced Accuracy:  0.661727456940223\n",
      "Confusion Matrix:\n",
      " [[237  15]\n",
      " [ 58  36]]\n",
      "gamma = 10\n",
      "     pcost       dcost       gap    pres   dres\n",
      " 0: -4.5893e+02 -2.0728e+03  2e+03  7e-14  6e-16\n",
      " 1: -4.6660e+02 -5.0673e+02  4e+01  8e-15  3e-16\n",
      " 2: -4.7356e+02 -4.7402e+02  5e-01  2e-14  2e-16\n",
      " 3: -4.7364e+02 -4.7365e+02  5e-03  1e-14  1e-16\n",
      " 4: -4.7364e+02 -4.7364e+02  5e-05  1e-14  1e-16\n",
      "Optimal solution found.\n",
      "1234 support vectors out of 1234 points\n",
      "Accuracy:  0.7947976878612717\n",
      "Balanced Accuracy:  0.682370820668693\n",
      "Confusion Matrix:\n",
      " [[234  18]\n",
      " [ 53  41]]\n",
      "gamma = 100\n",
      "     pcost       dcost       gap    pres   dres\n",
      " 0: -4.5912e+02 -2.0729e+03  2e+03  1e-13  5e-16\n",
      " 1: -4.6679e+02 -5.0563e+02  4e+01  7e-14  3e-16\n",
      " 2: -4.7373e+02 -4.7416e+02  4e-01  8e-15  7e-17\n",
      " 3: -4.7381e+02 -4.7381e+02  4e-03  6e-14  5e-18\n",
      " 4: -4.7381e+02 -4.7381e+02  4e-05  7e-14  3e-18\n",
      "Optimal solution found.\n",
      "1234 support vectors out of 1234 points\n",
      "Accuracy:  0.7947976878612717\n",
      "Balanced Accuracy:  0.682370820668693\n",
      "Confusion Matrix:\n",
      " [[234  18]\n",
      " [ 53  41]]\n",
      "best gamma was 100!\n"
     ]
    }
   ],
   "source": [
    "gammas = [00.1, 0.1, 1, 10, 100]\n",
    "best_gamma = None\n",
    "best_support_vectors = None\n",
    "best_support_vector_labels = None\n",
    "best_support_vector_alphas = None\n",
    "\n",
    "# TODO: Write your code here\n",
    "C = 1.0\n",
    "best_accuracy = 0\n",
    "for gamma in gammas:\n",
    "    print(f'gamma = {gamma}')\n",
    "    support_vectors, support_vector_labels, support_vector_alphas = soft_margin_svm(x_train_filtered, y_train_filtered, C, gamma)\n",
    "    y_pred = predict_labels(x_val_filtered, support_vectors, support_vector_labels, support_vector_alphas)\n",
    "    acc, _, _ = evaluate(y_val_filtered, y_pred)\n",
    "\n",
    "    if acc > best_accuracy:\n",
    "        best_gamma = gamma\n",
    "        best_support_vectors = support_vectors\n",
    "        best_support_vector_labels = support_vector_labels\n",
    "        best_support_vector_alphas = support_vector_alphas\n",
    "\n",
    "print(f'best gamma was {best_gamma}!')"
   ]
  },
  {
   "cell_type": "code",
   "execution_count": 72,
   "metadata": {},
   "outputs": [
    {
     "name": "stdout",
     "output_type": "stream",
     "text": [
      "Accuracy:  0.7833935018050542\n",
      "Balanced Accuracy:  0.7012820512820512\n",
      "Confusion Matrix:\n",
      " [[352  38]\n",
      " [ 82  82]]\n"
     ]
    }
   ],
   "source": [
    "y_pred = predict_labels(np.array(x_test_filtered), best_support_vectors, best_support_vector_labels, best_support_vector_alphas)\n",
    "_, _, confusion_mat = evaluate(y_test_filtered, y_pred)"
   ]
  },
  {
   "cell_type": "markdown",
   "metadata": {},
   "source": [
    "# Multiclass SVM (30 points + 50 points optional)"
   ]
  },
  {
   "cell_type": "markdown",
   "metadata": {},
   "source": [
    "Now we want implement Multiclass SVM. Use ```SVC``` function with rbf kernel from ```scikit-learn``` package on all train datas (all six classes) and choose best hyperparameters for $C$ and $\\gamma$ between 0.01, 0.1, 1, 10, 100. After that evaluate it with your function.\n",
    "\n",
    "Note that in this example we had enough data to split them in train and validation but in case that we don't have enough data, ```scikit-learn``` has a built-in fast library named ```GridSearchCV()``` which can help us in hyperparameter tunning with cross validation."
   ]
  },
  {
   "cell_type": "code",
   "execution_count": 96,
   "metadata": {},
   "outputs": [
    {
     "data": {
      "text/plain": [
       "((4826, 36), (4826,))"
      ]
     },
     "execution_count": 96,
     "metadata": {},
     "output_type": "execute_result"
    }
   ],
   "source": [
    "x_train_val = np.concatenate((x_train_scaled, x_val_scaled), axis=0)\n",
    "y_train_val = np.concatenate((y_train, y_val), axis=0)\n",
    "\n",
    "x_train_val.shape, y_train_val.shape"
   ]
  },
  {
   "cell_type": "code",
   "execution_count": 99,
   "metadata": {},
   "outputs": [
    {
     "data": {
      "text/plain": [
       "array([1., 2., 3., 4., 5., 6.])"
      ]
     },
     "execution_count": 99,
     "metadata": {},
     "output_type": "execute_result"
    }
   ],
   "source": [
    "np.unique(y_train)"
   ]
  },
  {
   "cell_type": "code",
   "execution_count": 102,
   "metadata": {},
   "outputs": [
    {
     "name": "stdout",
     "output_type": "stream",
     "text": [
      "Best C: 10\n",
      "Best Gamma: 0.1\n",
      "Accuracy:  0.9185829707893102\n",
      "Balanced Accuracy:  0.8963949282435711\n",
      "Confusion Matrix:\n",
      " [[376   0   3   0   2   0]\n",
      " [  0 158   0   2   3   0]\n",
      " [  3   0 335   7   0   5]\n",
      " [  0   3  35 105   1  20]\n",
      " [  2   3   2   0 146   8]\n",
      " [  0   0   7  18   7 358]]\n"
     ]
    }
   ],
   "source": [
    "Cs = [0.01, 0.1, 1, 10, 100]\n",
    "gammas = [0.01, 0.1, 1, 10, 100]\n",
    "# TODO: Write your code here\n",
    "\n",
    "from sklearn.svm import SVC\n",
    "from sklearn.model_selection import GridSearchCV\n",
    "\n",
    "param_grid = {'C': Cs, 'gamma': gammas}\n",
    "\n",
    "svc = SVC(kernel='rbf')\n",
    "grid_search = GridSearchCV(svc, param_grid, cv=5)  # 5-fold cross-validation\n",
    "\n",
    "grid_search.fit(x_train_val, y_train_val)\n",
    "\n",
    "best_C = grid_search.best_params_['C']\n",
    "best_gamma = grid_search.best_params_['gamma']\n",
    "\n",
    "print(\"Best C:\", best_C)\n",
    "print(\"Best Gamma:\", best_gamma)\n",
    "\n",
    "y_pred = grid_search.predict(x_test_scaled)\n",
    "accuracy, balanced_accuracy, confusion_mat = evaluate(y_test, y_pred)\n"
   ]
  },
  {
   "cell_type": "markdown",
   "metadata": {},
   "source": [
    "Implement Multiclass SVM from scratch without using ready functions (optional)."
   ]
  },
  {
   "cell_type": "code",
   "execution_count": 133,
   "metadata": {},
   "outputs": [],
   "source": [
    "# TODO: Write your code here\n"
   ]
  },
  {
   "cell_type": "markdown",
   "metadata": {},
   "source": [
    "# Different SVM Kernels (40 points)"
   ]
  },
  {
   "cell_type": "markdown",
   "metadata": {},
   "source": [
    "A kernel in SVM is like a tool that helps solve tricky problems. It lets us work in a space with many dimensions, making complex calculations easier. With kernels, we can deal with lots of dimensions, even an endless amount. Kernels are crucial for sorting data into groups and help spot patterns in the data we're looking at. They're especially good at tackling twisty problems with a straightforward approach.\n",
    "\n",
    "Sometimes, finding a straight line or flat surface to divide data isn't possible, especially as we explore more dimensions. That's where different types of SVM kernels come in handy. They transform twisty, complicated data into a simpler form that's easier to separate. In this explanation, we talk about 4 popular types of these kernels. Also in following cells you can use any package.\n",
    "\n",
    "<img src=\"./kernel.jpg\" alt=\"Types of Kernel Functions\"  align=center class=\"saturate\">"
   ]
  },
  {
   "cell_type": "markdown",
   "metadata": {},
   "source": [
    "### Linear Kernel"
   ]
  },
  {
   "cell_type": "markdown",
   "metadata": {},
   "source": [
    "This is the simplest kind of kernel, typically working in one dimension. It works best when dealing with a lot of features. Linear kernels are quicker than other types.\n",
    "\n",
    "**Formula:**\n",
    "\n",
    "$$F(x, x_j) = sum(x, x_j)$$\n",
    "\n",
    "Now Implement svc classifier using a linear kernel. Get the prediction and evaluate it by function which you implemented before. Also plot confusion matrix by `Seaborn`."
   ]
  },
  {
   "cell_type": "code",
   "execution_count": 103,
   "metadata": {},
   "outputs": [
    {
     "name": "stdout",
     "output_type": "stream",
     "text": [
      "Accuracy:  0.8651336233685519\n",
      "Balanced Accuracy:  0.8288957368404818\n",
      "Confusion Matrix:\n",
      " [[378   0   0   0   3   0]\n",
      " [  0 153   0   3   7   0]\n",
      " [  6   1 328  14   0   1]\n",
      " [  0   2  37  78   4  43]\n",
      " [  6   7   0   0 127  21]\n",
      " [  0   0   7  41  14 328]]\n"
     ]
    }
   ],
   "source": [
    "# TODO: Write your code here\n",
    "model = SVC(kernel='linear')\n",
    "model.fit(x_train_scaled, y_train)\n",
    "y_pred = model.predict(x_test_scaled)\n",
    "accuracy, balanced_accuracy, confusion_mat = evaluate(y_test, y_pred)"
   ]
  },
  {
   "cell_type": "code",
   "execution_count": 108,
   "metadata": {},
   "outputs": [
    {
     "data": {
      "image/png": "[encoded data removed]",
      "text/plain": [
       "<Figure size 800x600 with 2 Axes>"
      ]
     },
     "metadata": {},
     "output_type": "display_data"
    }
   ],
   "source": [
    "def plot_cm_heatmap(confusion_mat):\n",
    "    plt.figure(figsize=(8, 6))\n",
    "    classes = ['1', '2', '3', '4', '5', '6']\n",
    "    cm_matrix = pd.DataFrame(data=confusion_mat, columns=classes, index=classes)\n",
    "       \n",
    "    sns.heatmap(cm_matrix, annot=True, fmt='d', cmap='mako')\n",
    "    plt.xlabel('Predicted Classes')\n",
    "    plt.ylabel('Actual Classes')\n",
    "    plt.show()\n",
    "\n",
    "plot_cm_heatmap(confusion_mat)"
   ]
  },
  {
   "cell_type": "markdown",
   "metadata": {},
   "source": [
    "### Gaussian RBF kernel"
   ]
  },
  {
   "cell_type": "markdown",
   "metadata": {},
   "source": [
    "This kernel is a favorite choice in SVM, especially for data that doesn't line up straight. It's great for sorting data when you don't know much about it beforehand.\n",
    "\n",
    "**Formula:**\n",
    "\n",
    "$$F(x, x_j) = \\exp{(-\\gamma ||x - xj||^2)}$$\n",
    "\n",
    "Now, configure the SVC classifier with a sigmoid kernel. Get the prediction and evaluate it by function which you implemented before. Also plot confusion matrix as previous part. "
   ]
  },
  {
   "cell_type": "code",
   "execution_count": 110,
   "metadata": {},
   "outputs": [
    {
     "name": "stdout",
     "output_type": "stream",
     "text": [
      "Accuracy:  0.9042883778744562\n",
      "Balanced Accuracy:  0.8766479736545149\n",
      "Confusion Matrix:\n",
      " [[377   2   0   0   2   0]\n",
      " [  0 157   0   3   3   0]\n",
      " [  3   1 338   5   0   3]\n",
      " [  0   3  37  92   2  30]\n",
      " [  4   2   1   0 143  11]\n",
      " [  0   0   6  25  11 348]]\n"
     ]
    }
   ],
   "source": [
    "# TODO: Write your code here\n",
    "model = SVC(kernel='rbf', gamma=0.1)\n",
    "model.fit(x_train_scaled, y_train)\n",
    "y_pred = model.predict(x_test_scaled)\n",
    "accuracy, balanced_accuracy, confusion_mat = evaluate(y_test, y_pred)"
   ]
  },
  {
   "cell_type": "code",
   "execution_count": 111,
   "metadata": {},
   "outputs": [
    {
     "data": {
      "image/png": "[encoded data removed]",
      "text/plain": [
       "<Figure size 800x600 with 2 Axes>"
      ]
     },
     "metadata": {},
     "output_type": "display_data"
    }
   ],
   "source": [
    "plot_cm_heatmap(confusion_mat)"
   ]
  },
  {
   "cell_type": "markdown",
   "metadata": {},
   "source": [
    "### Polynomial Kernel"
   ]
  },
  {
   "cell_type": "markdown",
   "metadata": {},
   "source": [
    "This is a broader version of the linear kernel. It's not as popular because it's not as quick or precise.\n",
    "\n",
    "**Formula:**\n",
    "\n",
    "$$F(x, x_j) = (x.x_j+1)^d$$\n",
    "\n",
    "Now, set up the SVC classifier using a *polynomial* kernel. Get the prediction and evaluate it by function which you implemented before. Also plot confusion matrix as previous parts."
   ]
  },
  {
   "cell_type": "code",
   "execution_count": 123,
   "metadata": {},
   "outputs": [
    {
     "name": "stdout",
     "output_type": "stream",
     "text": [
      "Accuracy:  0.8999378495960224\n",
      "Balanced Accuracy:  0.87452400714093\n",
      "Confusion Matrix:\n",
      " [[380   0   0   0   1   0]\n",
      " [  0 158   0   2   3   0]\n",
      " [  4   1 334   7   1   3]\n",
      " [  0   3  33 101   2  25]\n",
      " [  6   3   1   1 135  15]\n",
      " [  0   0   5  33  12 340]]\n"
     ]
    }
   ],
   "source": [
    "# TODO: Write your code here\n",
    "model = SVC(kernel='poly', degree=3, coef0=1)\n",
    "model.fit(x_train_scaled, y_train)\n",
    "y_pred = model.predict(x_test_scaled)\n",
    "accuracy, balanced_accuracy, confusion_mat = evaluate(y_test, y_pred)"
   ]
  },
  {
   "cell_type": "code",
   "execution_count": 124,
   "metadata": {},
   "outputs": [
    {
     "data": {
      "image/png": "[encoded data removed]",
      "text/plain": [
       "<Figure size 800x600 with 2 Axes>"
      ]
     },
     "metadata": {},
     "output_type": "display_data"
    }
   ],
   "source": [
    "plot_cm_heatmap(confusion_mat)"
   ]
  },
  {
   "cell_type": "markdown",
   "metadata": {},
   "source": [
    "### Sigmoid Kernel"
   ]
  },
  {
   "cell_type": "markdown",
   "metadata": {},
   "source": [
    "This is mainly chosen for use with neural networks. The kernel function acts like the activation function in a two-layer perceptron neural network model, helping to activate the neurons.\n",
    "\n",
    "**Formula:**\n",
    "\n",
    "$$F(x, x_j) = \\tanh(α x a y + c)$$\n",
    "\n",
    "Now, configure the SVC classifier with a sigmoid kernel. Get the prediction and evaluate it by function which you implemented before. Also plot confusion matrix as previous parts. "
   ]
  },
  {
   "cell_type": "code",
   "execution_count": 121,
   "metadata": {},
   "outputs": [
    {
     "name": "stdout",
     "output_type": "stream",
     "text": [
      "Accuracy:  0.711622125543816\n",
      "Balanced Accuracy:  0.6559984396045956\n",
      "Confusion Matrix:\n",
      " [[314   6  14   0  47   0]\n",
      " [ 25 133   0   1   4   0]\n",
      " [  2   1 322  22   0   3]\n",
      " [  2   2  47  35  19  59]\n",
      " [ 26  25   1  21  79   9]\n",
      " [  0   0  11  53  64 262]]\n"
     ]
    }
   ],
   "source": [
    "# TODO: Write your code here\n",
    "model = SVC(kernel='sigmoid', gamma='scale', coef0=0.1)\n",
    "model.fit(x_train_scaled, y_train)\n",
    "y_pred = model.predict(x_test_scaled)\n",
    "accuracy, balanced_accuracy, confusion_mat = evaluate(y_test, y_pred)"
   ]
  },
  {
   "cell_type": "code",
   "execution_count": 122,
   "metadata": {},
   "outputs": [
    {
     "data": {
      "image/png": "[encoded data removed]",
      "text/plain": [
       "<Figure size 800x600 with 2 Axes>"
      ]
     },
     "metadata": {},
     "output_type": "display_data"
    }
   ],
   "source": [
    "plot_cm_heatmap(confusion_mat)"
   ]
  },
  {
   "cell_type": "markdown",
   "metadata": {},
   "source": [
    "Compare these four kernel functions with each other. What are the main advantages and disadvantages of each one? "
   ]
  },
  {
   "cell_type": "markdown",
   "metadata": {},
   "source": [
    "`TODO: Write Here`"
   ]
  },
  {
   "cell_type": "markdown",
   "metadata": {},
   "source": [
    "**Linear Kernel**\n",
    "\n",
    "Advantages:\n",
    "1. Simple and fast, especially for high-dimensional data.\n",
    "2. Works well when data is linearly separable.\n",
    "\n",
    "Disadvantages:\n",
    "1. Limited for capturing complex relationships, only separates using straight lines.\n",
    "\n",
    "**Polynomial Kernel**\n",
    "\n",
    "Advantages:\n",
    "1. Captures more complex relationships than linear.\n",
    "2. Flexible with nonlinear boundaries using higher degrees.\n",
    "\n",
    "Disadvantages:\n",
    "1. Computationally expensive, especially with high degrees.\n",
    "2. Prone to overfitting with high polynomial degrees.\n",
    "\n",
    "\n",
    "**Gaussian (RBF) Kernel**\n",
    "\n",
    "Advantages:\n",
    "1. Highly flexible, captures complex nonlinear relationships.\n",
    "2. Automatically handles feature selection.\n",
    "3. Maps data to high-dimensional space implicitly.\n",
    "\n",
    "Disadvantages:\n",
    "1. Computationally expensive, especially with large datasets or features.\n",
    "2. Sensitive to gamma parameter, which may require tuning.\n",
    "3. Risk of overfitting with large gamma values.\n",
    "\n",
    "\n",
    "**Sigmoid Kernel**\n",
    "\n",
    "Advantages:\n",
    "1. Captures nonlinear relationships like Gaussian kernel.\n",
    "2. Useful for non-linearly separable data.\n",
    "\n",
    "Disadvantages:\n",
    "1. Less common and less intuitive than other kernels.\n",
    "2. Sensitive to parameters, which may need tuning for best performance."
   ]
  }
 ],
 "metadata": {
  "kernelspec": {
   "display_name": "Python 3",
   "language": "python",
   "name": "python3"
  },
  "language_info": {
   "codemirror_mode": {
    "name": "ipython",
    "version": 3
   },
   "file_extension": ".py",
   "mimetype": "text/x-python",
   "name": "python",
   "nbconvert_exporter": "python",
   "pygments_lexer": "ipython3",
   "version": "3.11.3"
  }
 },
 "nbformat": 4,
 "nbformat_minor": 2
}
